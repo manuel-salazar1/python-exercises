{
 "cells": [
  {
   "cell_type": "markdown",
   "id": "4a256624",
   "metadata": {},
   "source": [
    "1. Define a function named is_two. It should accept one input and return True if the passed input is either the number or the string 2, False otherwise."
   ]
  },
  {
   "cell_type": "code",
   "execution_count": 236,
   "id": "b07e8b4d",
   "metadata": {},
   "outputs": [],
   "source": [
    "# is_two is defining a single parameter\n",
    "def is_two(number):\n",
    "    # checking if number equals 2 or two. If there is a match then the return is True. Otherwise return is False\n",
    "    return number == 2 or str(number.lower()) == 'two'"
   ]
  },
  {
   "cell_type": "code",
   "execution_count": 90,
   "id": "b0e62615",
   "metadata": {},
   "outputs": [
    {
     "data": {
      "text/plain": [
       "True"
      ]
     },
     "execution_count": 90,
     "metadata": {},
     "output_type": "execute_result"
    }
   ],
   "source": [
    "is_two(2)"
   ]
  },
  {
   "cell_type": "code",
   "execution_count": 247,
   "id": "84ef3d0a",
   "metadata": {},
   "outputs": [],
   "source": [
    "def is_two(string):\n",
    "    if string == 2 or string == '2':\n",
    "        return True\n",
    "    else:\n",
    "        return False"
   ]
  },
  {
   "cell_type": "code",
   "execution_count": 248,
   "id": "0ca629ca",
   "metadata": {},
   "outputs": [
    {
     "name": "stdout",
     "output_type": "stream",
     "text": [
      "True\n"
     ]
    }
   ],
   "source": [
    "def is_two(string):\n",
    "    return string == 2 or string == '2'"
   ]
  },
  {
   "cell_type": "markdown",
   "id": "3505daeb",
   "metadata": {},
   "source": [
    "2. Define a function named is_vowel. It should return True if the passed string is a vowel, False otherwise.\n"
   ]
  },
  {
   "cell_type": "code",
   "execution_count": 235,
   "id": "c0af0937",
   "metadata": {},
   "outputs": [],
   "source": [
    "# is_vowel is defining a single parameter\n",
    "def is_vowel(input):\n",
    "    # Next, we are defining a list of vowels\n",
    "    vowels = ['a', 'e', 'i', 'o', 'u']\n",
    "    # Next, we are converting input to lowercase and checking if its in vowel list. Returns True or False\n",
    "    return input.lower() in vowels"
   ]
  },
  {
   "cell_type": "code",
   "execution_count": 118,
   "id": "5294253b",
   "metadata": {},
   "outputs": [
    {
     "data": {
      "text/plain": [
       "True"
      ]
     },
     "execution_count": 118,
     "metadata": {},
     "output_type": "execute_result"
    }
   ],
   "source": [
    "is_vowel('a')"
   ]
  },
  {
   "cell_type": "markdown",
   "id": "b3a70be0",
   "metadata": {},
   "source": [
    "3. Define a function named is_consonant. It should return True if the passed string is a consonant, False otherwise. Use your is_vowel function to accomplish this."
   ]
  },
  {
   "cell_type": "code",
   "execution_count": 234,
   "id": "4d3b8da2",
   "metadata": {},
   "outputs": [],
   "source": [
    "# is_consonant is defining a single parameter\n",
    "def is_consonant(input):\n",
    "    # Utilizing is_vowel, we are using 'not' to check if input is letter other than vowel. Returns True or False.\n",
    "    return not is_vowel(input)"
   ]
  },
  {
   "cell_type": "code",
   "execution_count": 251,
   "id": "adb9ab35",
   "metadata": {},
   "outputs": [
    {
     "data": {
      "text/plain": [
       "True"
      ]
     },
     "execution_count": 251,
     "metadata": {},
     "output_type": "execute_result"
    }
   ],
   "source": [
    "is_consonant('M')"
   ]
  },
  {
   "cell_type": "code",
   "execution_count": null,
   "id": "3da34f39",
   "metadata": {},
   "outputs": [],
   "source": []
  },
  {
   "cell_type": "markdown",
   "id": "ed63d065",
   "metadata": {},
   "source": [
    "4. Define a function that accepts a string that is a word. The function should capitalize the first letter of the word if the word starts with a consonant."
   ]
  },
  {
   "cell_type": "code",
   "execution_count": 233,
   "id": "ed95fc28",
   "metadata": {},
   "outputs": [],
   "source": [
    "# cap_consonant is defining a single string. \n",
    "def cap_consonant(string):\n",
    "    # Checking to see if the first letter of string is a consonant using is_consonant function\n",
    "    if is_consonant(string[0]):\n",
    "        # If the first letter is a consonant, we are capitalizing first letter of string\n",
    "        return str.capitalize(string)\n",
    "    # If the first letter is NOT a consonant, we are simply sending back the string as is\n",
    "    return string\n",
    "    "
   ]
  },
  {
   "cell_type": "code",
   "execution_count": 253,
   "id": "119f5499",
   "metadata": {},
   "outputs": [
    {
     "data": {
      "text/plain": [
       "'Coffee'"
      ]
     },
     "execution_count": 253,
     "metadata": {},
     "output_type": "execute_result"
    }
   ],
   "source": [
    "cap_consonant('coffee')"
   ]
  },
  {
   "cell_type": "markdown",
   "id": "689e0e0e",
   "metadata": {},
   "source": [
    "5. Define a function named calculate_tip. It should accept a tip percentage (a number between 0 and 1) and the bill total, and return the amount to tip."
   ]
  },
  {
   "cell_type": "code",
   "execution_count": 178,
   "id": "7eb4b17d",
   "metadata": {},
   "outputs": [],
   "source": [
    "# Takes in 2 arguments, tip_percentage and bill_total\n",
    "def calculate_tip(tip_percentage, bill_total):\n",
    "    # reminding user to enter percentage as a decimal\n",
    "    '''\n",
    "    Enter tip_percentage as a decimal between 0 and 1\n",
    "    '''\n",
    "    # We are multiplying tip_percentage and bill_total to calculate tip amount\n",
    "    return tip_percentage * bill_total\n"
   ]
  },
  {
   "cell_type": "code",
   "execution_count": 180,
   "id": "b91e71c7",
   "metadata": {},
   "outputs": [
    {
     "data": {
      "text/plain": [
       "2.0"
      ]
     },
     "execution_count": 180,
     "metadata": {},
     "output_type": "execute_result"
    }
   ],
   "source": [
    "calculate_tip(.2, 10)"
   ]
  },
  {
   "cell_type": "markdown",
   "id": "9f1d548b",
   "metadata": {},
   "source": [
    "6. Define a function named apply_discount. It should accept a original price, and a discount percentage, and return the price after the discount is applied."
   ]
  },
  {
   "cell_type": "code",
   "execution_count": 237,
   "id": "8b37025d",
   "metadata": {},
   "outputs": [],
   "source": [
    "# takes in 2 arguments, discount_percentage and original_price\n",
    "def apply_discount(discount_percentage, original_price):\n",
    "    # reminding user to enter percentage as a decimal\n",
    "    '''\n",
    "    Enter discount_percentage as a decimal between 0 and 1\n",
    "    '''\n",
    "    # We are taking the original price then subtracting discount amount to get price after the discount is applied\n",
    "    return original_price - (original_price * discount_percentage)"
   ]
  },
  {
   "cell_type": "code",
   "execution_count": 184,
   "id": "6a04aceb",
   "metadata": {},
   "outputs": [
    {
     "data": {
      "text/plain": [
       "80.0"
      ]
     },
     "execution_count": 184,
     "metadata": {},
     "output_type": "execute_result"
    }
   ],
   "source": [
    "apply_discount(.2, 100)"
   ]
  },
  {
   "cell_type": "markdown",
   "id": "b96392cc",
   "metadata": {},
   "source": [
    "7. Define a function named handle_commas. It should accept a string that is a number that contains commas in it as input, and return a number as output."
   ]
  },
  {
   "cell_type": "code",
   "execution_count": 238,
   "id": "6b796c18",
   "metadata": {},
   "outputs": [],
   "source": [
    "# taking in 1 argument\n",
    "def handle_commas(input):\n",
    "    # First, we are replacing any commas with nothing eliminating all comma's\n",
    "    # Then we are converting the string to a number using int()\n",
    "    return int(input.replace(\",\",\"\"))"
   ]
  },
  {
   "cell_type": "code",
   "execution_count": 239,
   "id": "94c97301",
   "metadata": {},
   "outputs": [
    {
     "data": {
      "text/plain": [
       "1000000"
      ]
     },
     "execution_count": 239,
     "metadata": {},
     "output_type": "execute_result"
    }
   ],
   "source": [
    "handle_commas('1,000,000')"
   ]
  },
  {
   "cell_type": "markdown",
   "id": "140efd40",
   "metadata": {},
   "source": [
    "8. Define a function named get_letter_grade. It should accept a number and return the letter grade associated with that number (A-F)."
   ]
  },
  {
   "cell_type": "code",
   "execution_count": 240,
   "id": "9d7db6b8",
   "metadata": {},
   "outputs": [],
   "source": [
    "# taking in 1 argument\n",
    "def get_letter_grade(input):\n",
    "    # We are then checking a series of grade ranges.\n",
    "    # Once our input matches a range, we return the assosiated letter.\n",
    "    if input > 89:\n",
    "        return 'A'\n",
    "    elif input > 79:\n",
    "        return 'B'\n",
    "    elif input > 69:\n",
    "        return 'C'\n",
    "    elif input > 59:\n",
    "        return 'D'\n",
    "    else:\n",
    "        return 'F'"
   ]
  },
  {
   "cell_type": "code",
   "execution_count": 255,
   "id": "fffd49ce",
   "metadata": {},
   "outputs": [
    {
     "data": {
      "text/plain": [
       "'D'"
      ]
     },
     "execution_count": 255,
     "metadata": {},
     "output_type": "execute_result"
    }
   ],
   "source": [
    "get_letter_grade(69)"
   ]
  },
  {
   "cell_type": "markdown",
   "id": "08d86976",
   "metadata": {},
   "source": [
    "9. Define a function named remove_vowels that accepts a string and returns a string with all the vowels removed."
   ]
  },
  {
   "cell_type": "code",
   "execution_count": 245,
   "id": "b7cefb66",
   "metadata": {},
   "outputs": [],
   "source": [
    "# taking in 1 argument\n",
    "def remove_vowels(input):\n",
    "    # We created a list of vowels\n",
    "    vowels = 'aeiouAEIOU'\n",
    "    # Used list of comprehension to create a new list of character from the input string\n",
    "    # Only included letters that are not in the vowel string we created\n",
    "    # joined the list of consonants back together in a string using join() method\n",
    "    return ''.join([char for char in input if char not in vowels])"
   ]
  },
  {
   "cell_type": "code",
   "execution_count": 218,
   "id": "a79adf0f",
   "metadata": {},
   "outputs": [
    {
     "data": {
      "text/plain": [
       "'brhm'"
      ]
     },
     "execution_count": 218,
     "metadata": {},
     "output_type": "execute_result"
    }
   ],
   "source": [
    "remove_vowels('abraham')"
   ]
  },
  {
   "cell_type": "code",
   "execution_count": null,
   "id": "1fc803ef",
   "metadata": {},
   "outputs": [],
   "source": [
    "def remove_vowels(string):\n",
    "    new_string = ''\n",
    "    for char in string:\n",
    "        if not is_vowel(char):\n",
    "            new_string += char\n",
    "    return new_string"
   ]
  },
  {
   "cell_type": "markdown",
   "id": "d7a69d6a",
   "metadata": {},
   "source": [
    "10. Define a function named normalize_name. It should accept a string and return a valid python identifier, that is:\n",
    "\n",
    "\n",
    "\n",
    "        anything that is not a valid python identifier should be removed\n",
    "\n",
    "        leading and trailing whitespace should be removed\n",
    "\n",
    "        everything should be lowercase\n",
    "\n",
    "        spaces should be replaced with underscores\n",
    "\n",
    "        for example:\n",
    "        Name will become name\n",
    "\n",
    "        First Name will become first_name\n",
    "\n",
    "        % Completed will become completed"
   ]
  },
  {
   "cell_type": "code",
   "execution_count": 219,
   "id": "6d401ab0",
   "metadata": {},
   "outputs": [],
   "source": [
    "# Taking in 1 argument\n",
    "def normalize_name(input):\n",
    "    # Removes invalid characters\n",
    "    name = ''.join(char for char in input if char.isalnum() or char == ' ')\n",
    "    # Removes leading and trailing white space\n",
    "    name = name.strip()\n",
    "    # Converts to lowercase\n",
    "    name = name.lower()\n",
    "    # Replaces spaces with underscores\n",
    "    name = name.replace(' ', '_')\n",
    "    # Removes leading underscores\n",
    "    while name.startswith('_'):\n",
    "        name = name[1:]\n",
    "    # Returns final name\n",
    "    return name"
   ]
  },
  {
   "cell_type": "code",
   "execution_count": 244,
   "id": "0d3c2d27",
   "metadata": {},
   "outputs": [
    {
     "data": {
      "text/plain": [
       "'manny_11_salazar_is_da_best'"
      ]
     },
     "execution_count": 244,
     "metadata": {},
     "output_type": "execute_result"
    }
   ],
   "source": [
    "normalize_name('manny 11 salazar is da best!')"
   ]
  },
  {
   "cell_type": "code",
   "execution_count": 260,
   "id": "da5eed2d",
   "metadata": {},
   "outputs": [],
   "source": [
    "string = '  $  Name    '"
   ]
  },
  {
   "cell_type": "code",
   "execution_count": 261,
   "id": "1cb2a954",
   "metadata": {},
   "outputs": [
    {
     "data": {
      "text/plain": [
       "'$__name'"
      ]
     },
     "execution_count": 261,
     "metadata": {},
     "output_type": "execute_result"
    }
   ],
   "source": [
    "string.strip().lower().replace(' ','_') # chaining will execute from left to right"
   ]
  },
  {
   "cell_type": "code",
   "execution_count": 263,
   "id": "6277e202",
   "metadata": {},
   "outputs": [],
   "source": [
    "def normalize_name(string):\n",
    "    string = string.strip().lower().replace(' ','')\n",
    "    \n",
    "    new_string = ''\n",
    "    \n",
    "    for char in string:\n",
    "        if char.isalpha() or char.isdigit() or char == '_':\n",
    "            new_string += char\n",
    "    new_string = new_string.strip('_')\n",
    "    \n",
    "    return new_string"
   ]
  },
  {
   "cell_type": "markdown",
   "id": "926dcd32",
   "metadata": {},
   "source": [
    "11. Write a function named cumulative_sum that accepts a list of numbers and returns a list that is the cumulative sum of the numbers in the list.\n",
    "\n",
    "cumulative_sum([1, 1, 1]) returns [1, 2, 3]\n",
    "\n",
    "cumulative_sum([1, 2, 3, 4]) returns [1, 3, 6, 10]"
   ]
  },
  {
   "cell_type": "code",
   "execution_count": 242,
   "id": "69514239",
   "metadata": {},
   "outputs": [],
   "source": [
    "# takes in a list of numbers argument\n",
    "def cumulative_sum(inputs):\n",
    "    # We created an empty list to hold our cumulative sums\n",
    "    cumulative_sums = []\n",
    "    # created a variable to to track total_sum\n",
    "    total_sum = 0\n",
    "    # loop through each input in the list of inputs \n",
    "    for input in inputs:\n",
    "        # add the current input to the total_sum\n",
    "        total_sum += input\n",
    "        # Append the current total sum to the list of cumulative sums\n",
    "        cumulative_sums.append(total_sum)\n",
    "    # Returned the list of cumulative sums\n",
    "    return cumulative_sums"
   ]
  },
  {
   "cell_type": "code",
   "execution_count": 243,
   "id": "50be3cb2",
   "metadata": {},
   "outputs": [
    {
     "data": {
      "text/plain": [
       "[1, 3, 6, 10]"
      ]
     },
     "execution_count": 243,
     "metadata": {},
     "output_type": "execute_result"
    }
   ],
   "source": [
    "cumulative_sum([1,2,3,4])"
   ]
  },
  {
   "cell_type": "code",
   "execution_count": 266,
   "id": "616a3f83",
   "metadata": {},
   "outputs": [],
   "source": [
    "ls = [1,1,1]"
   ]
  },
  {
   "cell_type": "code",
   "execution_count": 268,
   "id": "f017155d",
   "metadata": {},
   "outputs": [
    {
     "name": "stdout",
     "output_type": "stream",
     "text": [
      "1\n",
      "2\n",
      "3\n"
     ]
    },
    {
     "data": {
      "text/plain": [
       "[1, 2, 3]"
      ]
     },
     "execution_count": 268,
     "metadata": {},
     "output_type": "execute_result"
    }
   ],
   "source": [
    "total = 0\n",
    "some_sums = []\n",
    "\n",
    "for numb in ls:\n",
    "    total += numb\n",
    "    print(total)\n",
    "    some_sums.append(total)\n",
    "some_sums"
   ]
  },
  {
   "cell_type": "code",
   "execution_count": 271,
   "id": "96267266",
   "metadata": {},
   "outputs": [],
   "source": [
    "def cumulative_sum(ls):\n",
    "    total = 0\n",
    "    some_sums = []\n",
    "\n",
    "    for numb in ls:\n",
    "        total += numb\n",
    "        # print(total)\n",
    "        some_sums.append(total)\n",
    "    some_sums"
   ]
  },
  {
   "cell_type": "code",
   "execution_count": 270,
   "id": "ddd334f4",
   "metadata": {},
   "outputs": [],
   "source": []
  },
  {
   "cell_type": "code",
   "execution_count": 272,
   "id": "0d90ae3c",
   "metadata": {},
   "outputs": [],
   "source": [
    "import numpy as np"
   ]
  },
  {
   "cell_type": "code",
   "execution_count": 273,
   "id": "89e5eff4",
   "metadata": {},
   "outputs": [
    {
     "data": {
      "text/plain": [
       "array([0, 1, 2, 3, 4, 5, 6, 7, 8, 9])"
      ]
     },
     "execution_count": 273,
     "metadata": {},
     "output_type": "execute_result"
    }
   ],
   "source": [
    "np.arange(10)"
   ]
  },
  {
   "cell_type": "code",
   "execution_count": 275,
   "id": "aac3d8de",
   "metadata": {},
   "outputs": [
    {
     "name": "stderr",
     "output_type": "stream",
     "text": [
      "\n",
      "KeyboardInterrupt\n",
      "\n"
     ]
    }
   ],
   "source": [
    "import pandas as pd"
   ]
  },
  {
   "cell_type": "code",
   "execution_count": null,
   "id": "f1044e4b",
   "metadata": {},
   "outputs": [],
   "source": []
  }
 ],
 "metadata": {
  "kernelspec": {
   "display_name": "Python 3 (ipykernel)",
   "language": "python",
   "name": "python3"
  },
  "language_info": {
   "codemirror_mode": {
    "name": "ipython",
    "version": 3
   },
   "file_extension": ".py",
   "mimetype": "text/x-python",
   "name": "python",
   "nbconvert_exporter": "python",
   "pygments_lexer": "ipython3",
   "version": "3.9.13"
  }
 },
 "nbformat": 4,
 "nbformat_minor": 5
}
