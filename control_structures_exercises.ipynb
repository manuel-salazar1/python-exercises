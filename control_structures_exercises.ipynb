{
 "cells": [
  {
   "cell_type": "markdown",
   "id": "902433c1",
   "metadata": {},
   "source": [
    "# 1. Conditional Basics"
   ]
  },
  {
   "cell_type": "markdown",
   "id": "5a00da19",
   "metadata": {},
   "source": [
    "\n",
    "- Prompt the user for a day of the week, print out whether the day is Monday or not\n",
    "\n",
    "- Prompt the user for a day of the week, print out whether the day is a weekday or a weekend\n",
    "\n",
    "- Calculate a weekly paycheck, accounting for overtime pay. Create variables and make up values for:\n",
    "\n",
    "        - The number of hours worked in one week\n",
    "\n",
    "        - The hourly rate\n",
    "\n",
    "- For calculating pay:\n",
    "\n",
    "        - For working 40 hours or less, each hour is paid at the hourly rate\n",
    "\n",
    "        - For working more than 40 hours\n",
    "        \n",
    "\n",
    "\n",
    "            - the first 40 hours are paid at the hourly rate\n",
    "\n",
    "\n",
    "            - each hour after 40 is paid at time and a half (hourly rate * 1.5)"
   ]
  },
  {
   "cell_type": "code",
   "execution_count": 41,
   "id": "a8cb9d38",
   "metadata": {},
   "outputs": [
    {
     "name": "stdout",
     "output_type": "stream",
     "text": [
      "Enter day of the week: Monday\n",
      "Today is Monday!\n"
     ]
    }
   ],
   "source": [
    "day = input(\"Enter day of the week: \")\n",
    "\n",
    "if day.lower() == 'monday':\n",
    "    print('Today is Monday!')\n",
    "else:\n",
    "    print('Today is not Monday.')"
   ]
  },
  {
   "cell_type": "markdown",
   "id": "ba5a3758",
   "metadata": {},
   "source": [
    "review way"
   ]
  },
  {
   "cell_type": "code",
   "execution_count": 56,
   "id": "77e2090a",
   "metadata": {},
   "outputs": [
    {
     "name": "stdout",
     "output_type": "stream",
     "text": [
      "give me the day of the week: MOnday\n",
      "today is monday\n"
     ]
    }
   ],
   "source": [
    "day = input('give me the day of the week: ')\n",
    "day = day.lower()\n",
    "\n",
    "\n",
    "if day == 'monday':\n",
    "    print('today is monday')\n",
    "else:\n",
    "    print('today is NOT monday')\n"
   ]
  },
  {
   "cell_type": "markdown",
   "id": "beb21297",
   "metadata": {},
   "source": [
    "Prompt the user for a day of the week, print out whether the day is a weekday or a weekend"
   ]
  },
  {
   "cell_type": "code",
   "execution_count": 53,
   "id": "935adab8",
   "metadata": {},
   "outputs": [
    {
     "name": "stdout",
     "output_type": "stream",
     "text": [
      "Enter day of the week: SUNDAY\n",
      "Today is a weekend!\n"
     ]
    }
   ],
   "source": [
    "day = input(\"Enter day of the week: \")\n",
    "\n",
    "if day.lower() in ['monday', 'tuesday', 'wednesday', 'thursday', 'friday']:\n",
    "    print('Today is a weekday')\n",
    "elif day.lower() in ['saturday', 'sunday']:\n",
    "    print('Today is a weekend!')\n",
    "else:\n",
    "    print('Invalid entry. Please enter a valid day of the week')"
   ]
  },
  {
   "cell_type": "markdown",
   "id": "14ac54ef",
   "metadata": {},
   "source": [
    "review way"
   ]
  },
  {
   "cell_type": "code",
   "execution_count": null,
   "id": "28c7ec1d",
   "metadata": {},
   "outputs": [],
   "source": [
    "if day == 'saturday':\n",
    "    "
   ]
  },
  {
   "cell_type": "code",
   "execution_count": null,
   "id": "bf1eba1b",
   "metadata": {},
   "outputs": [],
   "source": []
  },
  {
   "cell_type": "code",
   "execution_count": 80,
   "id": "463087d8",
   "metadata": {},
   "outputs": [
    {
     "name": "stdout",
     "output_type": "stream",
     "text": [
      "Enter amount of hours worked: 41\n",
      "Enter hourly rate: 10\n",
      "425.0\n"
     ]
    }
   ],
   "source": [
    "hrs_worked = input(\"Enter amount of hours worked: \")\n",
    "hr_rate = input(\"Enter hourly rate: \")\n",
    "\n",
    "if float(hrs_worked) <= 40:\n",
    "    print(float(hrs_worked) * float(hr_rate))\n",
    "elif float(hrs_worked) > 40:\n",
    "    print ((float(hrs_worked) * float(hr_rate))+((float(hrs_worked) - 40) * (float(hr_rate) * 1.5)))"
   ]
  },
  {
   "cell_type": "code",
   "execution_count": 93,
   "id": "0ce5bb85",
   "metadata": {},
   "outputs": [
    {
     "name": "stdout",
     "output_type": "stream",
     "text": [
      "Enter amount of hours worked: 42\n",
      "Enter hourly rate: 10\n",
      "430.0\n"
     ]
    }
   ],
   "source": [
    "hrs_worked = input(\"Enter amount of hours worked: \")\n",
    "hr_rate = input(\"Enter hourly rate: \")\n",
    "\n",
    "if float(hrs_worked) <= 40:\n",
    "    print(float(hrs_worked) * float(hr_rate))\n",
    "elif float(hrs_worked) > 40:\n",
    "    print((40 * float(hr_rate))+((float(hrs_worked) - 40)) * (float(hr_rate) * 1.5))"
   ]
  },
  {
   "cell_type": "markdown",
   "id": "de555517",
   "metadata": {},
   "source": [
    "# 2. Loop Basics\n"
   ]
  },
  {
   "cell_type": "markdown",
   "id": "b499d8be",
   "metadata": {},
   "source": [
    "- While\n",
    "\n",
    "Create an integer variable i with a value of 5. Create a while loop that runs so long as i is less than or equal to 15. Each loop iteration, output the current value of i, then increment i by one."
   ]
  },
  {
   "cell_type": "code",
   "execution_count": 58,
   "id": "72a99ac2",
   "metadata": {},
   "outputs": [
    {
     "name": "stdout",
     "output_type": "stream",
     "text": [
      "5\n",
      "6\n",
      "7\n",
      "8\n",
      "9\n",
      "10\n",
      "11\n",
      "12\n",
      "13\n",
      "14\n",
      "15\n"
     ]
    }
   ],
   "source": [
    "i = 5\n",
    "\n",
    "while i <= 15:\n",
    "    print(i)\n",
    "    i = i + 1 #i+=1 is the shorthand equation"
   ]
  },
  {
   "cell_type": "markdown",
   "id": "f63b5811",
   "metadata": {},
   "source": [
    "Create a while loop that will count by 2's starting with 0 and ending at 100. Follow each number with a new line.\n"
   ]
  },
  {
   "cell_type": "code",
   "execution_count": 96,
   "id": "f66a9b37",
   "metadata": {},
   "outputs": [
    {
     "name": "stdout",
     "output_type": "stream",
     "text": [
      "0\n",
      "2\n",
      "4\n",
      "6\n",
      "8\n",
      "10\n",
      "12\n",
      "14\n",
      "16\n",
      "18\n",
      "20\n",
      "22\n",
      "24\n",
      "26\n",
      "28\n",
      "30\n",
      "32\n",
      "34\n",
      "36\n",
      "38\n",
      "40\n",
      "42\n",
      "44\n",
      "46\n",
      "48\n",
      "50\n",
      "52\n",
      "54\n",
      "56\n",
      "58\n",
      "60\n",
      "62\n",
      "64\n",
      "66\n",
      "68\n",
      "70\n",
      "72\n",
      "74\n",
      "76\n",
      "78\n",
      "80\n",
      "82\n",
      "84\n",
      "86\n",
      "88\n",
      "90\n",
      "92\n",
      "94\n",
      "96\n",
      "98\n",
      "100\n",
      "I'm done!\n"
     ]
    }
   ],
   "source": [
    "x = 0\n",
    "\n",
    "while x <= 100:\n",
    "    print(x)\n",
    "    x = x + 2\n",
    "print(\"I'm done!\")"
   ]
  },
  {
   "cell_type": "markdown",
   "id": "ab6f3eea",
   "metadata": {},
   "source": [
    "Create a while loop that starts at 2, and displays the number squared on each line while the number is less than 1,000,000. Output should equal:"
   ]
  },
  {
   "cell_type": "code",
   "execution_count": 60,
   "id": "a8f90eeb",
   "metadata": {},
   "outputs": [
    {
     "name": "stdout",
     "output_type": "stream",
     "text": [
      "2\n",
      "4\n",
      "16\n",
      "256\n",
      "65536\n",
      "yay, you figured it out!\n"
     ]
    }
   ],
   "source": [
    "z = 2\n",
    "\n",
    "while z <= 1_000_000:\n",
    "    print(z)\n",
    "    z = z ** 2 # z **= 2\n",
    "print(\"yay, you figured it out!\")\n"
   ]
  },
  {
   "cell_type": "markdown",
   "id": "7a11ad51",
   "metadata": {},
   "source": [
    "Write a while loop that uses print to create the output shown below."
   ]
  },
  {
   "cell_type": "code",
   "execution_count": 102,
   "id": "2a4cb4b0",
   "metadata": {},
   "outputs": [
    {
     "name": "stdout",
     "output_type": "stream",
     "text": [
      "100\n",
      "95\n",
      "90\n",
      "85\n",
      "80\n",
      "75\n",
      "70\n",
      "65\n",
      "60\n",
      "55\n",
      "50\n",
      "45\n",
      "40\n",
      "35\n",
      "30\n",
      "25\n",
      "20\n",
      "15\n",
      "10\n",
      "5\n",
      "good job!\n"
     ]
    }
   ],
   "source": [
    "y = 100\n",
    "\n",
    "while y > 0:\n",
    "    print(y)\n",
    "    y = y - 5\n",
    "print('good job!')"
   ]
  },
  {
   "cell_type": "markdown",
   "id": "fc957b99",
   "metadata": {},
   "source": [
    "- For\n",
    "\n",
    "Write some code using a for loop that prompts the user for a number, then shows a multiplication table up through 10 for that number.\n",
    "\n",
    "For example, if the user enters 7, your program should output:"
   ]
  },
  {
   "cell_type": "code",
   "execution_count": 160,
   "id": "f84d5a2f",
   "metadata": {},
   "outputs": [
    {
     "name": "stdout",
     "output_type": "stream",
     "text": [
      "Pick a number: 5.5\n",
      "5.5 x 1 = 5.5\n",
      "5.5 x 2 = 11.0\n",
      "5.5 x 3 = 16.5\n",
      "5.5 x 4 = 22.0\n",
      "5.5 x 5 = 27.5\n",
      "5.5 x 6 = 33.0\n",
      "5.5 x 7 = 38.5\n",
      "5.5 x 8 = 44.0\n",
      "5.5 x 9 = 49.5\n",
      "5.5 x 10 = 55.0\n"
     ]
    }
   ],
   "source": [
    "number = input(\"Pick a number: \")\n",
    "\n",
    "for multiply in [1, 2, 3, 4, 5, 6, 7, 8, 9, 10]:\n",
    "    print(number + ' x ' + str(multiply) + ' = ' + str(float(number) * int(multiply)))\n",
    "    \n"
   ]
  },
  {
   "cell_type": "code",
   "execution_count": 63,
   "id": "7b139280",
   "metadata": {},
   "outputs": [
    {
     "name": "stdout",
     "output_type": "stream",
     "text": [
      "enter a number3\n",
      " 1 x 3 = 3\n",
      " 2 x 3 = 6\n",
      " 3 x 3 = 9\n",
      " 4 x 3 = 12\n",
      " 5 x 3 = 15\n",
      " 6 x 3 = 18\n",
      " 7 x 3 = 21\n",
      " 8 x 3 = 24\n",
      " 9 x 3 = 27\n",
      " 10 x 3 = 30\n"
     ]
    }
   ],
   "source": [
    "num = int(input('enter a number'))\n",
    "\n",
    "for i in range(1,11):\n",
    "    print(f' {i} x {num} = {i*num}')"
   ]
  },
  {
   "cell_type": "markdown",
   "id": "dc112a13",
   "metadata": {},
   "source": [
    "number = input(\"Pick a number: \")\n",
    "\n",
    "print(number + ' x '+str(1)+ ' = ' + number*1)"
   ]
  },
  {
   "cell_type": "markdown",
   "id": "1c3a3d36",
   "metadata": {},
   "source": [
    "- Create a for loop that uses print to create the output shown below.\n",
    "\n"
   ]
  },
  {
   "cell_type": "code",
   "execution_count": 155,
   "id": "ad58d1cc",
   "metadata": {
    "scrolled": false
   },
   "outputs": [
    {
     "name": "stdout",
     "output_type": "stream",
     "text": [
      "1\n",
      "22\n",
      "333\n",
      "4444\n",
      "55555\n",
      "666666\n",
      "7777777\n",
      "88888888\n",
      "999999999\n"
     ]
    }
   ],
   "source": [
    "for multiply in [1, 2, 3, 4, 5, 6, 7, 8, 9]:\n",
    "    print(str(multiply) * multiply)"
   ]
  },
  {
   "cell_type": "code",
   "execution_count": 64,
   "id": "725bed12",
   "metadata": {},
   "outputs": [
    {
     "name": "stdout",
     "output_type": "stream",
     "text": [
      "1\n",
      "22\n",
      "333\n",
      "4444\n",
      "55555\n",
      "666666\n",
      "7777777\n",
      "88888888\n",
      "999999999\n"
     ]
    }
   ],
   "source": [
    "for i in range(1,10):\n",
    "    print(i*str(i))"
   ]
  },
  {
   "cell_type": "markdown",
   "id": "090cbd24",
   "metadata": {},
   "source": [
    "#### c. break and continue\n",
    "\n"
   ]
  },
  {
   "cell_type": "markdown",
   "id": "f64094be",
   "metadata": {},
   "source": [
    "- Write a program that prompts the user for a positive integer. Next write a loop that prints out the numbers from the number the user entered down to 1."
   ]
  },
  {
   "cell_type": "code",
   "execution_count": 199,
   "id": "83f39c16",
   "metadata": {},
   "outputs": [
    {
     "name": "stdout",
     "output_type": "stream",
     "text": [
      "Pick a positive Integer: 10\n",
      "10\n",
      "9.0\n",
      "8.0\n",
      "7.0\n",
      "6.0\n",
      "5.0\n",
      "4.0\n",
      "3.0\n",
      "2.0\n",
      "1.0\n"
     ]
    }
   ],
   "source": [
    "integer = input(\"Pick a positive Integer: \")\n",
    "\n",
    "while float(integer) in range(-100,1000):\n",
    "    print(integer)\n",
    "    integer = float(integer) - 1\n",
    "    if integer < 1:\n",
    "        break"
   ]
  },
  {
   "cell_type": "code",
   "execution_count": 69,
   "id": "a4d6d8b6",
   "metadata": {},
   "outputs": [
    {
     "name": "stdout",
     "output_type": "stream",
     "text": [
      "enter a positive integer: 5\n",
      "5\n",
      "4\n",
      "3\n",
      "2\n",
      "1\n"
     ]
    }
   ],
   "source": [
    "num = int(input('enter a positive integer: '))\n",
    "\n",
    "for i in range(num, 0, -1):\n",
    "    print(i)"
   ]
  },
  {
   "cell_type": "markdown",
   "id": "1b184683",
   "metadata": {},
   "source": [
    "The input function can be used to prompt for input and use that input in your python code. Prompt the user to enter a positive number and write a loop that counts from 0 to that number. (Hints: note that the input function returns a string, so you'll need to convert this to a numeric type.)"
   ]
  },
  {
   "cell_type": "code",
   "execution_count": 71,
   "id": "cca6b6d9",
   "metadata": {},
   "outputs": [
    {
     "name": "stdout",
     "output_type": "stream",
     "text": [
      "enter a number5\n",
      "0\n",
      "1\n",
      "2\n",
      "3\n",
      "4\n",
      "5\n"
     ]
    }
   ],
   "source": [
    "num = int(input(\"enter a number\"))\n",
    "\n",
    "for i in range(num+1):\n",
    "    print(i)"
   ]
  },
  {
   "cell_type": "markdown",
   "id": "f1600099",
   "metadata": {},
   "source": [
    "Prompt the user for an odd number between 1 and 50. Use a loop and a break statement to continue prompting the user if they enter invalid input. (Hint: use the isdigit method on strings to determine this). Use a loop and the continue statement to output all the odd numbers between 1 and 50, except for the number the user entered."
   ]
  },
  {
   "cell_type": "code",
   "execution_count": 76,
   "id": "80e1ba66",
   "metadata": {},
   "outputs": [
    {
     "name": "stdout",
     "output_type": "stream",
     "text": [
      "enter an odd number between 1 and 50: 5\n",
      "1\n",
      "3\n",
      " skip this number: 5\n",
      "7\n",
      "9\n",
      "11\n",
      "13\n",
      "15\n",
      "17\n",
      "19\n",
      "21\n",
      "23\n",
      "25\n",
      "27\n",
      "29\n",
      "31\n",
      "33\n",
      "35\n",
      "37\n",
      "39\n",
      "41\n",
      "43\n",
      "45\n",
      "47\n",
      "49\n"
     ]
    }
   ],
   "source": [
    "while True:\n",
    "    num = input('enter an odd number between 1 and 50: ')\n",
    "    \n",
    "    if num.isdigit() == False:\n",
    "        print('invalid entry. this is not a number')\n",
    "        continue    \n",
    "    num = int(num)\n",
    "    if num % 2 == 0:\n",
    "        print('invalid entry. this is EVEN.')\n",
    "        continue\n",
    "    if num < 1 or num > 50:\n",
    "        print('invalid entry. this is out of range.')\n",
    "        continue \n",
    "    break\n",
    "\n",
    "for i in range(1,51,2):\n",
    "    if (i) == num:\n",
    "        print(f' skip this number: {num}')\n",
    "        continue\n",
    "    print(i)"
   ]
  },
  {
   "cell_type": "code",
   "execution_count": null,
   "id": "33d42a6f",
   "metadata": {},
   "outputs": [],
   "source": []
  },
  {
   "cell_type": "code",
   "execution_count": null,
   "id": "e2bd1a6b",
   "metadata": {},
   "outputs": [],
   "source": []
  },
  {
   "cell_type": "code",
   "execution_count": null,
   "id": "654caf82",
   "metadata": {},
   "outputs": [],
   "source": []
  },
  {
   "cell_type": "code",
   "execution_count": null,
   "id": "06ffdb59",
   "metadata": {},
   "outputs": [],
   "source": []
  },
  {
   "cell_type": "code",
   "execution_count": null,
   "id": "3352cb22",
   "metadata": {},
   "outputs": [],
   "source": []
  },
  {
   "cell_type": "code",
   "execution_count": null,
   "id": "82c318eb",
   "metadata": {},
   "outputs": [],
   "source": []
  }
 ],
 "metadata": {
  "kernelspec": {
   "display_name": "Python 3 (ipykernel)",
   "language": "python",
   "name": "python3"
  },
  "language_info": {
   "codemirror_mode": {
    "name": "ipython",
    "version": 3
   },
   "file_extension": ".py",
   "mimetype": "text/x-python",
   "name": "python",
   "nbconvert_exporter": "python",
   "pygments_lexer": "ipython3",
   "version": "3.9.13"
  }
 },
 "nbformat": 4,
 "nbformat_minor": 5
}
