{
 "cells": [
  {
   "cell_type": "markdown",
   "id": "01bdbfbc",
   "metadata": {},
   "source": [
    "# Control Structures"
   ]
  },
  {
   "cell_type": "markdown",
   "id": "3e3f7456",
   "metadata": {},
   "source": [
    "What are they: Commands that enable a program to know which direction to go. Aka controls the 'flow' of the program\n",
    "\n",
    "There are different kinds of flow: \n",
    "- sequential flow\n",
    "- conditional flow\n",
    "- repetitive flow"
   ]
  },
  {
   "cell_type": "markdown",
   "id": "edb550c3",
   "metadata": {},
   "source": [
    "Why do we care: These are building blocks in programming that allows us to do a lot of cool things! "
   ]
  },
  {
   "cell_type": "markdown",
   "id": "f7ad28a1",
   "metadata": {},
   "source": [
    "## Conditional flow"
   ]
  },
  {
   "cell_type": "markdown",
   "id": "ca216a29",
   "metadata": {},
   "source": [
    "opener: whats the difference between the following code commands?"
   ]
  },
  {
   "cell_type": "code",
   "execution_count": 1,
   "id": "6b1e13d8",
   "metadata": {},
   "outputs": [],
   "source": [
    "breakfast = 'coffee'\n",
    "# defining a variable"
   ]
  },
  {
   "cell_type": "code",
   "execution_count": 2,
   "id": "7883d73c",
   "metadata": {},
   "outputs": [
    {
     "data": {
      "text/plain": [
       "True"
      ]
     },
     "execution_count": 2,
     "metadata": {},
     "output_type": "execute_result"
    }
   ],
   "source": [
    "breakfast == 'coffee'\n",
    "# conditional operator"
   ]
  },
  {
   "cell_type": "code",
   "execution_count": null,
   "id": "6a7c7a54",
   "metadata": {},
   "outputs": [],
   "source": [
    "# single = sets a variable\n",
    "# double == is checking a condition"
   ]
  },
  {
   "cell_type": "markdown",
   "id": "a0d8ed4d",
   "metadata": {},
   "source": [
    "### IF statement"
   ]
  },
  {
   "cell_type": "markdown",
   "id": "f08c0e7e",
   "metadata": {},
   "source": [
    "#### IF\n",
    "-- if this condition is true, do this action"
   ]
  },
  {
   "cell_type": "code",
   "execution_count": null,
   "id": "5a73dfcb",
   "metadata": {},
   "outputs": [],
   "source": [
    "# FORMAT:\n",
    "# if [condition_to_check]:\n",
    "#     [do_this_if_TRUE]"
   ]
  },
  {
   "cell_type": "code",
   "execution_count": 3,
   "id": "3e181c10",
   "metadata": {},
   "outputs": [
    {
     "data": {
      "text/plain": [
       "'coffee'"
      ]
     },
     "execution_count": 3,
     "metadata": {},
     "output_type": "execute_result"
    }
   ],
   "source": [
    "breakfast"
   ]
  },
  {
   "cell_type": "code",
   "execution_count": 4,
   "id": "52304f96",
   "metadata": {},
   "outputs": [
    {
     "name": "stdout",
     "output_type": "stream",
     "text": [
      "yes,you had coffee for breakfast\n"
     ]
    }
   ],
   "source": [
    "if breakfast == 'coffee':\n",
    "    print('yes,you had coffee for breakfast')"
   ]
  },
  {
   "cell_type": "code",
   "execution_count": null,
   "id": "738c9ca7",
   "metadata": {},
   "outputs": [],
   "source": []
  },
  {
   "cell_type": "markdown",
   "id": "59454515",
   "metadata": {},
   "source": [
    "#### syntax"
   ]
  },
  {
   "cell_type": "code",
   "execution_count": null,
   "id": "c318f003",
   "metadata": {},
   "outputs": [],
   "source": [
    "# after your conditional statement, always include that colon:\n",
    "# whatever you would like to execute, put on a new line and indent"
   ]
  },
  {
   "cell_type": "markdown",
   "id": "35ff9eab",
   "metadata": {},
   "source": [
    "#### more examples"
   ]
  },
  {
   "cell_type": "code",
   "execution_count": null,
   "id": "8077060a",
   "metadata": {},
   "outputs": [],
   "source": [
    "awake = False"
   ]
  },
  {
   "cell_type": "code",
   "execution_count": 5,
   "id": "fbf2dc6a",
   "metadata": {},
   "outputs": [
    {
     "name": "stdout",
     "output_type": "stream",
     "text": [
      "yes, you had coffee for breakfast\n",
      "5\n"
     ]
    }
   ],
   "source": [
    "if breakfast == 'coffee':\n",
    "    print('yes, you had coffee for breakfast')\n",
    "    awake = True\n",
    "    print(2+3)"
   ]
  },
  {
   "cell_type": "code",
   "execution_count": 9,
   "id": "0f1f124c",
   "metadata": {},
   "outputs": [
    {
     "name": "stdout",
     "output_type": "stream",
     "text": [
      "goodbye\n"
     ]
    }
   ],
   "source": [
    "if breakfast == 'cereal':\n",
    "    print('yay cereal!')\n",
    "    \n",
    "# nothing happened because the statement was false\n",
    "print('goodbye')"
   ]
  },
  {
   "cell_type": "code",
   "execution_count": null,
   "id": "54affb6a",
   "metadata": {},
   "outputs": [],
   "source": []
  },
  {
   "cell_type": "markdown",
   "id": "0b90998f",
   "metadata": {},
   "source": [
    "#### troubleshooting"
   ]
  },
  {
   "cell_type": "code",
   "execution_count": 14,
   "id": "25c21400",
   "metadata": {},
   "outputs": [],
   "source": [
    "weather = 'rain'"
   ]
  },
  {
   "cell_type": "markdown",
   "id": "7ba6cd7f",
   "metadata": {},
   "source": [
    "Whats wrong with the following code? Look at the error statements before fixing. "
   ]
  },
  {
   "cell_type": "code",
   "execution_count": 10,
   "id": "a5180be8",
   "metadata": {},
   "outputs": [
    {
     "ename": "SyntaxError",
     "evalue": "invalid syntax (255722885.py, line 1)",
     "output_type": "error",
     "traceback": [
      "\u001b[0;36m  Input \u001b[0;32mIn [10]\u001b[0;36m\u001b[0m\n\u001b[0;31m    if weather = 'rain':\u001b[0m\n\u001b[0m               ^\u001b[0m\n\u001b[0;31mSyntaxError\u001b[0m\u001b[0;31m:\u001b[0m invalid syntax\n"
     ]
    }
   ],
   "source": [
    "if weather = 'rain':\n",
    "   print('yes, it is rainy outside today')"
   ]
  },
  {
   "cell_type": "code",
   "execution_count": 15,
   "id": "e0bf1787",
   "metadata": {},
   "outputs": [
    {
     "ename": "NameError",
     "evalue": "name 'rain' is not defined",
     "output_type": "error",
     "traceback": [
      "\u001b[0;31m---------------------------------------------------------------------------\u001b[0m",
      "\u001b[0;31mNameError\u001b[0m                                 Traceback (most recent call last)",
      "Input \u001b[0;32mIn [15]\u001b[0m, in \u001b[0;36m<cell line: 1>\u001b[0;34m()\u001b[0m\n\u001b[0;32m----> 1\u001b[0m \u001b[38;5;28;01mif\u001b[39;00m weather \u001b[38;5;241m==\u001b[39m \u001b[43mrain\u001b[49m:\n\u001b[1;32m      2\u001b[0m     \u001b[38;5;28mprint\u001b[39m(\u001b[38;5;124m'\u001b[39m\u001b[38;5;124myes, it is rainy outside today\u001b[39m\u001b[38;5;124m'\u001b[39m)\n",
      "\u001b[0;31mNameError\u001b[0m: name 'rain' is not defined"
     ]
    }
   ],
   "source": [
    "if weather == rain:\n",
    "    print('yes, it is rainy outside today')"
   ]
  },
  {
   "cell_type": "code",
   "execution_count": 13,
   "id": "25102110",
   "metadata": {},
   "outputs": [
    {
     "ename": "IndentationError",
     "evalue": "expected an indented block (3714790084.py, line 2)",
     "output_type": "error",
     "traceback": [
      "\u001b[0;36m  Input \u001b[0;32mIn [13]\u001b[0;36m\u001b[0m\n\u001b[0;31m    print('yes, it is rainy outside today')\u001b[0m\n\u001b[0m    ^\u001b[0m\n\u001b[0;31mIndentationError\u001b[0m\u001b[0;31m:\u001b[0m expected an indented block\n"
     ]
    }
   ],
   "source": [
    "if weather == 'rain':\n",
    "print('yes, it is rainy outside today')"
   ]
  },
  {
   "cell_type": "code",
   "execution_count": 16,
   "id": "3e7a2b21",
   "metadata": {},
   "outputs": [
    {
     "ename": "SyntaxError",
     "evalue": "invalid syntax (3520020327.py, line 1)",
     "output_type": "error",
     "traceback": [
      "\u001b[0;36m  Input \u001b[0;32mIn [16]\u001b[0;36m\u001b[0m\n\u001b[0;31m    if weather == 'rain'\u001b[0m\n\u001b[0m                        ^\u001b[0m\n\u001b[0;31mSyntaxError\u001b[0m\u001b[0;31m:\u001b[0m invalid syntax\n"
     ]
    }
   ],
   "source": [
    "if weather == 'rain'\n",
    "   print('yes, it is rainy outside today')"
   ]
  },
  {
   "cell_type": "markdown",
   "id": "a0848fb2",
   "metadata": {},
   "source": [
    "#### IF/ELSE\n",
    "-- if this condition is true, do this action, if nothing else is true, do this"
   ]
  },
  {
   "cell_type": "code",
   "execution_count": null,
   "id": "75214405",
   "metadata": {},
   "outputs": [],
   "source": [
    "# FORMAT:\n",
    "# if [condition_to_check]:\n",
    "#     [do_this_if_TRUE]\n",
    "# else:\n",
    "#     [do_this_if_FALSE]"
   ]
  },
  {
   "cell_type": "code",
   "execution_count": 18,
   "id": "83299bcd",
   "metadata": {},
   "outputs": [
    {
     "name": "stdout",
     "output_type": "stream",
     "text": [
      "I don't know what you had for breakfast\n",
      "extra lines\n",
      "11\n"
     ]
    }
   ],
   "source": [
    "if breakfast == 'banana':\n",
    "    print ('yay banana!')\n",
    "else:\n",
    "    print (\"I don't know what you had for breakfast\")\n",
    "    print ('extra lines')\n",
    "    \n",
    "print (10+1)"
   ]
  },
  {
   "cell_type": "markdown",
   "id": "d6ccbe4b",
   "metadata": {},
   "source": [
    "#### syntax"
   ]
  },
  {
   "cell_type": "code",
   "execution_count": null,
   "id": "cd1ddb98",
   "metadata": {},
   "outputs": [],
   "source": []
  },
  {
   "cell_type": "markdown",
   "id": "6d220b1a",
   "metadata": {},
   "source": [
    "#### IF/ELIF/ELSE\n",
    "-- if this condition is true, do this action, else if this other condition is true, do something else, if nothing is true, do this"
   ]
  },
  {
   "cell_type": "code",
   "execution_count": null,
   "id": "d5011946",
   "metadata": {},
   "outputs": [],
   "source": [
    "# FORMAT:\n",
    "# if [condition_to_check]:\n",
    "#     [do_this_if_TRUE]\n",
    "# elif [condition_to_check]:\n",
    "#     [do_this_if_TRUE]\n",
    "# else:\n",
    "#     [do_this_if_FALSE]"
   ]
  },
  {
   "cell_type": "code",
   "execution_count": 20,
   "id": "fd8df4bc",
   "metadata": {},
   "outputs": [
    {
     "name": "stdout",
     "output_type": "stream",
     "text": [
      "breakfast coffee\n"
     ]
    }
   ],
   "source": [
    "if breakfast == 'coffee':\n",
    "    print ('breakfast coffee')\n",
    "elif weather == 'rain':\n",
    "    print ('it rain')\n",
    "else:\n",
    "    print('no coffee or rain')"
   ]
  },
  {
   "cell_type": "markdown",
   "id": "79a9d51a",
   "metadata": {},
   "source": [
    "- as long as one of the conditions are TRUE, it will execute and get out of the if statement"
   ]
  },
  {
   "cell_type": "code",
   "execution_count": null,
   "id": "5bfc71fd",
   "metadata": {},
   "outputs": [],
   "source": []
  },
  {
   "cell_type": "markdown",
   "id": "dda74556",
   "metadata": {},
   "source": [
    "#### double if?"
   ]
  },
  {
   "cell_type": "code",
   "execution_count": 29,
   "id": "3576ecc4",
   "metadata": {},
   "outputs": [
    {
     "name": "stdout",
     "output_type": "stream",
     "text": [
      "breakfast coffee\n",
      "it rain\n"
     ]
    }
   ],
   "source": [
    "if breakfast == 'coffee':\n",
    "    print ('breakfast coffee')\n",
    "    \n",
    "if weather == 'rain':\n",
    "    print ('it rain')\n",
    "else:\n",
    "    print('no coffee or rain')"
   ]
  },
  {
   "cell_type": "markdown",
   "id": "f63dd3c7",
   "metadata": {},
   "source": [
    "#### check multiple conditions?"
   ]
  },
  {
   "cell_type": "code",
   "execution_count": 30,
   "id": "91a70530",
   "metadata": {},
   "outputs": [],
   "source": [
    "if breakfast == 'coffee' and weather == 'sunny':\n",
    "    print ('coffee and sun')"
   ]
  },
  {
   "cell_type": "code",
   "execution_count": 31,
   "id": "9c339bc4",
   "metadata": {},
   "outputs": [
    {
     "name": "stdout",
     "output_type": "stream",
     "text": [
      "coffee and sun\n"
     ]
    }
   ],
   "source": [
    "if breakfast == 'coffee' or weather == 'sunny':\n",
    "    print ('coffee and sun')"
   ]
  },
  {
   "cell_type": "markdown",
   "id": "1714f872",
   "metadata": {},
   "source": [
    "- and BOTH conditions are true\n",
    "- or EITHER condition is true"
   ]
  },
  {
   "cell_type": "markdown",
   "id": "4976c16e",
   "metadata": {},
   "source": [
    "## Repetitive Flow (loops)"
   ]
  },
  {
   "cell_type": "markdown",
   "id": "5fbea5fc",
   "metadata": {},
   "source": [
    "### While loop\n",
    "-- do some action over and over again while a condition is true"
   ]
  },
  {
   "cell_type": "code",
   "execution_count": null,
   "id": "2ac6b75b",
   "metadata": {},
   "outputs": [],
   "source": [
    "# FORMAT: \n",
    "# while [condition]:\n",
    "#     [repeat_this_while_condition_is_true]"
   ]
  },
  {
   "cell_type": "code",
   "execution_count": 32,
   "id": "ed75c871",
   "metadata": {},
   "outputs": [
    {
     "name": "stdout",
     "output_type": "stream",
     "text": [
      "1\n",
      "2\n",
      "3\n",
      "4\n"
     ]
    }
   ],
   "source": [
    "x = 1\n",
    "\n",
    "while x < 5:\n",
    "    print(x)\n",
    "    x = x +1"
   ]
  },
  {
   "cell_type": "markdown",
   "id": "38cf3e37",
   "metadata": {},
   "source": [
    "#### syntax"
   ]
  },
  {
   "cell_type": "markdown",
   "id": "d1c8c14e",
   "metadata": {},
   "source": [
    "- need the colon after the conditional statement\n",
    "- everything that you want to execute has to be indented over"
   ]
  },
  {
   "cell_type": "markdown",
   "id": "bc377559",
   "metadata": {},
   "source": [
    "#### whats happening in the above code?"
   ]
  },
  {
   "cell_type": "markdown",
   "id": "6f34004f",
   "metadata": {},
   "source": [
    "- setting my variable x to 1\n",
    "- then im checking if x is less than 5\n",
    "- printing out x\n",
    "- adding on to x\n",
    "- go back to the top of the loop and check my condition to see if it is true\n",
    "- once my condition is false, then I exit the loop"
   ]
  },
  {
   "cell_type": "markdown",
   "id": "68f9d5bd",
   "metadata": {},
   "source": [
    "#### another example"
   ]
  },
  {
   "cell_type": "code",
   "execution_count": null,
   "id": "4d7f7e0d",
   "metadata": {},
   "outputs": [],
   "source": [
    "# x = 6\n",
    "\n",
    "# while x > 5:\n",
    "    # print(x)\n",
    "    # x = x +1\n",
    "    \n",
    "# infinate loop. Dont forget where stop button is"
   ]
  },
  {
   "cell_type": "markdown",
   "id": "873b55b8",
   "metadata": {},
   "source": [
    "#### troubleshoot"
   ]
  },
  {
   "cell_type": "code",
   "execution_count": null,
   "id": "12025467",
   "metadata": {},
   "outputs": [],
   "source": [
    "# x = 1 \n",
    "\n",
    "# while x < 5: \n",
    "#     print(x)"
   ]
  },
  {
   "cell_type": "markdown",
   "id": "415a3282",
   "metadata": {},
   "source": [
    "### For loop\n",
    "-- allows you to iterate over a sequence"
   ]
  },
  {
   "cell_type": "code",
   "execution_count": null,
   "id": "d6c95326",
   "metadata": {},
   "outputs": [],
   "source": [
    "# FORMAT: \n",
    "# for [iterator] in [sequence]:\n",
    "#     [do_this_usually_on_iterator]"
   ]
  },
  {
   "cell_type": "code",
   "execution_count": 34,
   "id": "d03ab58c",
   "metadata": {},
   "outputs": [
    {
     "data": {
      "text/plain": [
       "[1, 23, 3423, 523, -2]"
      ]
     },
     "execution_count": 34,
     "metadata": {},
     "output_type": "execute_result"
    }
   ],
   "source": [
    "ls = [1,23,3423,523,-2]\n",
    "ls"
   ]
  },
  {
   "cell_type": "code",
   "execution_count": 35,
   "id": "0d5e13bc",
   "metadata": {},
   "outputs": [
    {
     "name": "stdout",
     "output_type": "stream",
     "text": [
      "1\n",
      "23\n",
      "3423\n",
      "523\n",
      "-2\n"
     ]
    }
   ],
   "source": [
    "for x in ls:\n",
    "    print(x)"
   ]
  },
  {
   "cell_type": "code",
   "execution_count": null,
   "id": "69c25bb8",
   "metadata": {},
   "outputs": [],
   "source": []
  },
  {
   "cell_type": "markdown",
   "id": "64d03d25",
   "metadata": {},
   "source": [
    "#### syntax:"
   ]
  },
  {
   "cell_type": "markdown",
   "id": "f2007e4f",
   "metadata": {},
   "source": [
    "- colon at the end\n",
    "- whatever we want to execute has to be indented"
   ]
  },
  {
   "cell_type": "markdown",
   "id": "02f014da",
   "metadata": {},
   "source": [
    "Q: what is it the sequence in the above loop?\n",
    "\n",
    "A: ls\n",
    "\n",
    "Q: what is the iterator in the above loop?\n",
    "\n",
    "A: x"
   ]
  },
  {
   "cell_type": "markdown",
   "id": "a67e2f4d",
   "metadata": {},
   "source": [
    "#### the iterator can be any variable you want"
   ]
  },
  {
   "cell_type": "code",
   "execution_count": 36,
   "id": "c89b156a",
   "metadata": {},
   "outputs": [
    {
     "name": "stdout",
     "output_type": "stream",
     "text": [
      "1\n",
      "23\n",
      "3423\n",
      "523\n",
      "-2\n"
     ]
    }
   ],
   "source": [
    "for random_number_in_list in ls:\n",
    "    print(random_number_in_list)"
   ]
  },
  {
   "cell_type": "code",
   "execution_count": 37,
   "id": "7d80e9cf",
   "metadata": {
    "scrolled": true
   },
   "outputs": [
    {
     "name": "stdout",
     "output_type": "stream",
     "text": [
      "[1, 23, 3423, 523, -2]\n",
      "[1, 23, 3423, 523, -2]\n",
      "[1, 23, 3423, 523, -2]\n",
      "[1, 23, 3423, 523, -2]\n",
      "[1, 23, 3423, 523, -2]\n"
     ]
    }
   ],
   "source": [
    "for x in ls:\n",
    "    print(ls)"
   ]
  },
  {
   "cell_type": "code",
   "execution_count": null,
   "id": "ccada21c",
   "metadata": {},
   "outputs": [],
   "source": []
  },
  {
   "cell_type": "code",
   "execution_count": 45,
   "id": "268bfcae",
   "metadata": {},
   "outputs": [
    {
     "name": "stdout",
     "output_type": "stream",
     "text": [
      "1\n",
      "23\n"
     ]
    }
   ],
   "source": [
    "for n in ls[:2]: # iterator can slice a piece of your list\n",
    "    print(n)"
   ]
  },
  {
   "cell_type": "code",
   "execution_count": 46,
   "id": "498ac755",
   "metadata": {},
   "outputs": [
    {
     "data": {
      "text/plain": [
       "[1, 23, 3423, 523, -2]"
      ]
     },
     "execution_count": 46,
     "metadata": {},
     "output_type": "execute_result"
    }
   ],
   "source": [
    "ls # your list doesn't change"
   ]
  },
  {
   "cell_type": "code",
   "execution_count": 47,
   "id": "ad29359a",
   "metadata": {},
   "outputs": [
    {
     "data": {
      "text/plain": [
       "(1, 2)"
      ]
     },
     "execution_count": 47,
     "metadata": {},
     "output_type": "execute_result"
    }
   ],
   "source": [
    "new_tuple = (1, 2)\n",
    "new_tuple"
   ]
  },
  {
   "cell_type": "code",
   "execution_count": 48,
   "id": "8cd6a0d4",
   "metadata": {},
   "outputs": [
    {
     "name": "stdout",
     "output_type": "stream",
     "text": [
      "1\n",
      "2\n"
     ]
    }
   ],
   "source": [
    "for y in new_tuple:\n",
    "    print(y)"
   ]
  },
  {
   "cell_type": "code",
   "execution_count": 49,
   "id": "8bd9a6fc",
   "metadata": {},
   "outputs": [
    {
     "name": "stdout",
     "output_type": "stream",
     "text": [
      "1\n",
      "2\n"
     ]
    }
   ],
   "source": [
    "for new_tuple in new_tuple:\n",
    "    print(new_tuple)"
   ]
  },
  {
   "cell_type": "code",
   "execution_count": 50,
   "id": "61970672",
   "metadata": {},
   "outputs": [
    {
     "data": {
      "text/plain": [
       "2"
      ]
     },
     "execution_count": 50,
     "metadata": {},
     "output_type": "execute_result"
    }
   ],
   "source": [
    "new_tuple"
   ]
  },
  {
   "cell_type": "code",
   "execution_count": null,
   "id": "18ae2d04",
   "metadata": {},
   "outputs": [],
   "source": []
  },
  {
   "cell_type": "markdown",
   "id": "cfb7d822",
   "metadata": {},
   "source": [
    "- know what your iterator is"
   ]
  },
  {
   "cell_type": "markdown",
   "id": "7e50a40a",
   "metadata": {},
   "source": [
    "#### execute all the things"
   ]
  },
  {
   "cell_type": "code",
   "execution_count": null,
   "id": "33627fea",
   "metadata": {},
   "outputs": [],
   "source": []
  },
  {
   "cell_type": "markdown",
   "id": "9193702e",
   "metadata": {},
   "source": [
    "#### can also iterate over strings"
   ]
  },
  {
   "cell_type": "code",
   "execution_count": 51,
   "id": "78ebd3d2",
   "metadata": {},
   "outputs": [],
   "source": [
    "string = 'hello pagel class!'"
   ]
  },
  {
   "cell_type": "code",
   "execution_count": 52,
   "id": "fc174676",
   "metadata": {},
   "outputs": [
    {
     "data": {
      "text/plain": [
       "'hello pagel class!'"
      ]
     },
     "execution_count": 52,
     "metadata": {},
     "output_type": "execute_result"
    }
   ],
   "source": [
    "string"
   ]
  },
  {
   "cell_type": "code",
   "execution_count": 53,
   "id": "c262fba5",
   "metadata": {},
   "outputs": [
    {
     "name": "stdout",
     "output_type": "stream",
     "text": [
      "h\n",
      "e\n",
      "l\n",
      "l\n",
      "o\n",
      " \n",
      "p\n",
      "a\n",
      "g\n",
      "e\n",
      "l\n",
      " \n",
      "c\n",
      "l\n",
      "a\n",
      "s\n",
      "s\n",
      "!\n"
     ]
    }
   ],
   "source": [
    "for char in string:\n",
    "    print(char)"
   ]
  },
  {
   "cell_type": "code",
   "execution_count": 54,
   "id": "af533724",
   "metadata": {},
   "outputs": [
    {
     "data": {
      "text/plain": [
       "'!'"
      ]
     },
     "execution_count": 54,
     "metadata": {},
     "output_type": "execute_result"
    }
   ],
   "source": [
    "char"
   ]
  },
  {
   "cell_type": "code",
   "execution_count": null,
   "id": "fe3f6101",
   "metadata": {},
   "outputs": [],
   "source": []
  },
  {
   "cell_type": "markdown",
   "id": "eb002699",
   "metadata": {},
   "source": [
    "### List Comprehension"
   ]
  },
  {
   "cell_type": "markdown",
   "id": "b4477b1f",
   "metadata": {},
   "source": [
    "-- shorthand method of creating a list using a for loop"
   ]
  },
  {
   "cell_type": "code",
   "execution_count": null,
   "id": "4ead5e47",
   "metadata": {},
   "outputs": [],
   "source": [
    "#FORMAT:\n",
    "#[[what_to_do_to_iterator] for [iterator] in [sequence]]"
   ]
  },
  {
   "cell_type": "code",
   "execution_count": 55,
   "id": "3aa8a935",
   "metadata": {},
   "outputs": [
    {
     "data": {
      "text/plain": [
       "[2, 24, 3424, 524, -1]"
      ]
     },
     "execution_count": 55,
     "metadata": {},
     "output_type": "execute_result"
    }
   ],
   "source": [
    "new_list = []\n",
    "\n",
    "for x in ls:\n",
    "    new_list.append(x+1)\n",
    "    \n",
    "new_list"
   ]
  },
  {
   "cell_type": "code",
   "execution_count": 56,
   "id": "5923c40a",
   "metadata": {},
   "outputs": [
    {
     "data": {
      "text/plain": [
       "[2, 24, 3424, 524, -1]"
      ]
     },
     "execution_count": 56,
     "metadata": {},
     "output_type": "execute_result"
    }
   ],
   "source": [
    "[ x+1 for x in ls ]"
   ]
  },
  {
   "cell_type": "code",
   "execution_count": 57,
   "id": "3b2c2861",
   "metadata": {
    "scrolled": true
   },
   "outputs": [
    {
     "data": {
      "text/plain": [
       "[1, 23, 3423, 523, -2]"
      ]
     },
     "execution_count": 57,
     "metadata": {},
     "output_type": "execute_result"
    }
   ],
   "source": [
    "ls"
   ]
  },
  {
   "cell_type": "markdown",
   "id": "1ec69736",
   "metadata": {},
   "source": [
    "- in python, you can put pretty much anything into a variable and call it later!"
   ]
  },
  {
   "cell_type": "markdown",
   "id": "d0cc57e8",
   "metadata": {},
   "source": [
    "- keep things simple!"
   ]
  },
  {
   "cell_type": "markdown",
   "id": "720fdacf",
   "metadata": {},
   "source": [
    "### Break Continue\n",
    "-- commands to execute in a loop\n",
    "\n",
    "-- `break` will force the loop to end\n",
    "\n",
    "-- `continue` will skip the current iteration of a loop"
   ]
  },
  {
   "cell_type": "code",
   "execution_count": null,
   "id": "c96996f5",
   "metadata": {},
   "outputs": [],
   "source": [
    "#make big list\n"
   ]
  },
  {
   "cell_type": "code",
   "execution_count": null,
   "id": "ec51153a",
   "metadata": {},
   "outputs": [],
   "source": []
  },
  {
   "cell_type": "code",
   "execution_count": null,
   "id": "77f6ac16",
   "metadata": {},
   "outputs": [],
   "source": []
  },
  {
   "cell_type": "code",
   "execution_count": null,
   "id": "d250dc44",
   "metadata": {},
   "outputs": [],
   "source": []
  },
  {
   "cell_type": "code",
   "execution_count": null,
   "id": "1dd29614",
   "metadata": {},
   "outputs": [],
   "source": []
  },
  {
   "cell_type": "code",
   "execution_count": null,
   "id": "b449ac7a",
   "metadata": {},
   "outputs": [],
   "source": []
  }
 ],
 "metadata": {
  "kernelspec": {
   "display_name": "Python 3 (ipykernel)",
   "language": "python",
   "name": "python3"
  },
  "language_info": {
   "codemirror_mode": {
    "name": "ipython",
    "version": 3
   },
   "file_extension": ".py",
   "mimetype": "text/x-python",
   "name": "python",
   "nbconvert_exporter": "python",
   "pygments_lexer": "ipython3",
   "version": "3.9.13"
  }
 },
 "nbformat": 4,
 "nbformat_minor": 5
}
