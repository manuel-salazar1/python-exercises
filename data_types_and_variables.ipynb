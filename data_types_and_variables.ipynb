{
 "cells": [
  {
   "cell_type": "markdown",
   "id": "0a5e9c3a",
   "metadata": {},
   "source": [
    "# Exercises"
   ]
  },
  {
   "cell_type": "markdown",
   "id": "ee0c468a",
   "metadata": {},
   "source": [
    "### 1. Identify the data type of the following values:"
   ]
  },
  {
   "cell_type": "code",
   "execution_count": 34,
   "id": "4993b0a8",
   "metadata": {},
   "outputs": [
    {
     "data": {
      "text/plain": [
       "float"
      ]
     },
     "execution_count": 34,
     "metadata": {},
     "output_type": "execute_result"
    }
   ],
   "source": [
    "type(99.9) #float"
   ]
  },
  {
   "cell_type": "code",
   "execution_count": 3,
   "id": "8d847671",
   "metadata": {},
   "outputs": [
    {
     "data": {
      "text/plain": [
       "str"
      ]
     },
     "execution_count": 3,
     "metadata": {},
     "output_type": "execute_result"
    }
   ],
   "source": [
    "type(\"False\") #str"
   ]
  },
  {
   "cell_type": "code",
   "execution_count": 4,
   "id": "c4f3d908",
   "metadata": {},
   "outputs": [
    {
     "data": {
      "text/plain": [
       "bool"
      ]
     },
     "execution_count": 4,
     "metadata": {},
     "output_type": "execute_result"
    }
   ],
   "source": [
    "type(False) #bool"
   ]
  },
  {
   "cell_type": "code",
   "execution_count": 5,
   "id": "36aa57fa",
   "metadata": {},
   "outputs": [
    {
     "data": {
      "text/plain": [
       "str"
      ]
     },
     "execution_count": 5,
     "metadata": {},
     "output_type": "execute_result"
    }
   ],
   "source": [
    "type('0') #str"
   ]
  },
  {
   "cell_type": "code",
   "execution_count": 6,
   "id": "b32526d9",
   "metadata": {},
   "outputs": [
    {
     "data": {
      "text/plain": [
       "int"
      ]
     },
     "execution_count": 6,
     "metadata": {},
     "output_type": "execute_result"
    }
   ],
   "source": [
    "type(0) #int"
   ]
  },
  {
   "cell_type": "code",
   "execution_count": 7,
   "id": "8c07379f",
   "metadata": {},
   "outputs": [
    {
     "data": {
      "text/plain": [
       "bool"
      ]
     },
     "execution_count": 7,
     "metadata": {},
     "output_type": "execute_result"
    }
   ],
   "source": [
    "type(True) #bool"
   ]
  },
  {
   "cell_type": "code",
   "execution_count": 8,
   "id": "74559154",
   "metadata": {},
   "outputs": [
    {
     "data": {
      "text/plain": [
       "str"
      ]
     },
     "execution_count": 8,
     "metadata": {},
     "output_type": "execute_result"
    }
   ],
   "source": [
    "type('True') #str"
   ]
  },
  {
   "cell_type": "code",
   "execution_count": 9,
   "id": "0fffd9e8",
   "metadata": {},
   "outputs": [
    {
     "data": {
      "text/plain": [
       "list"
      ]
     },
     "execution_count": 9,
     "metadata": {},
     "output_type": "execute_result"
    }
   ],
   "source": [
    "type([{}]) #list"
   ]
  },
  {
   "cell_type": "code",
   "execution_count": 35,
   "id": "af6c09b1",
   "metadata": {},
   "outputs": [
    {
     "data": {
      "text/plain": [
       "dict"
      ]
     },
     "execution_count": 35,
     "metadata": {},
     "output_type": "execute_result"
    }
   ],
   "source": [
    "type({'a': []}) #dict"
   ]
  },
  {
   "cell_type": "markdown",
   "id": "4184430b",
   "metadata": {},
   "source": [
    "### 2. What data type would best represent the following?"
   ]
  },
  {
   "cell_type": "markdown",
   "id": "aa56cf62",
   "metadata": {},
   "source": [
    "* A term or phrase typed into a search box? \n",
    "        # str\n",
    "* Whether or not a user is logged in. \n",
    "        # bool\n",
    "* A discount amount to apply to a user's shopping cart\n",
    "        # float\n",
    "* Whether or not a coupon code is valid\n",
    "        # bool\n",
    "* An email address typed into a registration form\n",
    "        # str\n",
    "* The price of a product\n",
    "        # float\n",
    "* The email addresses collected from a registration form\n",
    "        # list of str\n",
    "* Information about applicants to Codeup's data science program\n",
    "        # dict"
   ]
  },
  {
   "cell_type": "markdown",
   "id": "ae6336a9",
   "metadata": {},
   "source": [
    "### 3. For each of the following code blocks:\n",
    "\n",
    "Read the expression and predict the evaluated results\n",
    "\n",
    "Execute the expression in a Python REPL."
   ]
  },
  {
   "cell_type": "code",
   "execution_count": 82,
   "id": "9c30c620",
   "metadata": {
    "scrolled": true
   },
   "outputs": [
    {
     "ename": "TypeError",
     "evalue": "can only concatenate str (not \"int\") to str",
     "output_type": "error",
     "traceback": [
      "\u001b[0;31m---------------------------------------------------------------------------\u001b[0m",
      "\u001b[0;31mTypeError\u001b[0m                                 Traceback (most recent call last)",
      "Input \u001b[0;32mIn [82]\u001b[0m, in \u001b[0;36m<cell line: 1>\u001b[0;34m()\u001b[0m\n\u001b[0;32m----> 1\u001b[0m \u001b[38;5;124;43m'\u001b[39;49m\u001b[38;5;124;43m1\u001b[39;49m\u001b[38;5;124;43m'\u001b[39;49m\u001b[43m \u001b[49m\u001b[38;5;241;43m+\u001b[39;49m\u001b[43m \u001b[49m\u001b[38;5;241;43m2\u001b[39;49m\n",
      "\u001b[0;31mTypeError\u001b[0m: can only concatenate str (not \"int\") to str"
     ]
    }
   ],
   "source": [
    "'1' + 2 # error - can only concat str to str"
   ]
  },
  {
   "cell_type": "code",
   "execution_count": 84,
   "id": "7a5a4f25",
   "metadata": {},
   "outputs": [
    {
     "data": {
      "text/plain": [
       "2"
      ]
     },
     "execution_count": 84,
     "metadata": {},
     "output_type": "execute_result"
    }
   ],
   "source": [
    "6 % 4 # 2 since that is the remainder"
   ]
  },
  {
   "cell_type": "code",
   "execution_count": 85,
   "id": "f27bf24a",
   "metadata": {},
   "outputs": [
    {
     "data": {
      "text/plain": [
       "int"
      ]
     },
     "execution_count": 85,
     "metadata": {},
     "output_type": "execute_result"
    }
   ],
   "source": [
    "type(6 % 4) # int"
   ]
  },
  {
   "cell_type": "code",
   "execution_count": 86,
   "id": "610f8281",
   "metadata": {},
   "outputs": [
    {
     "data": {
      "text/plain": [
       "type"
      ]
     },
     "execution_count": 86,
     "metadata": {},
     "output_type": "execute_result"
    }
   ],
   "source": [
    "type(type(6 % 4)) # type"
   ]
  },
  {
   "cell_type": "code",
   "execution_count": 87,
   "id": "7075a3ea",
   "metadata": {},
   "outputs": [
    {
     "ename": "TypeError",
     "evalue": "can only concatenate str (not \"int\") to str",
     "output_type": "error",
     "traceback": [
      "\u001b[0;31m---------------------------------------------------------------------------\u001b[0m",
      "\u001b[0;31mTypeError\u001b[0m                                 Traceback (most recent call last)",
      "Input \u001b[0;32mIn [87]\u001b[0m, in \u001b[0;36m<cell line: 1>\u001b[0;34m()\u001b[0m\n\u001b[0;32m----> 1\u001b[0m \u001b[38;5;124;43m'\u001b[39;49m\u001b[38;5;124;43m3 + 4 is \u001b[39;49m\u001b[38;5;124;43m'\u001b[39;49m\u001b[43m \u001b[49m\u001b[38;5;241;43m+\u001b[39;49m\u001b[43m \u001b[49m\u001b[38;5;241;43m3\u001b[39;49m \u001b[38;5;241m+\u001b[39m \u001b[38;5;241m4\u001b[39m\n",
      "\u001b[0;31mTypeError\u001b[0m: can only concatenate str (not \"int\") to str"
     ]
    }
   ],
   "source": [
    "'3 + 4 is ' + 3 + 4 # error - can only concat str to str"
   ]
  },
  {
   "cell_type": "code",
   "execution_count": 88,
   "id": "ecc477a8",
   "metadata": {},
   "outputs": [
    {
     "data": {
      "text/plain": [
       "False"
      ]
     },
     "execution_count": 88,
     "metadata": {},
     "output_type": "execute_result"
    }
   ],
   "source": [
    "0 < 0 # false because 0 = false and 1 = true"
   ]
  },
  {
   "cell_type": "code",
   "execution_count": 89,
   "id": "34ced0d0",
   "metadata": {},
   "outputs": [
    {
     "data": {
      "text/plain": [
       "False"
      ]
     },
     "execution_count": 89,
     "metadata": {},
     "output_type": "execute_result"
    }
   ],
   "source": [
    "'False' == False # false"
   ]
  },
  {
   "cell_type": "code",
   "execution_count": 90,
   "id": "6f652cac",
   "metadata": {},
   "outputs": [
    {
     "data": {
      "text/plain": [
       "False"
      ]
     },
     "execution_count": 90,
     "metadata": {},
     "output_type": "execute_result"
    }
   ],
   "source": [
    "True == 'True' # false"
   ]
  },
  {
   "cell_type": "code",
   "execution_count": 91,
   "id": "ca7fcd57",
   "metadata": {},
   "outputs": [
    {
     "data": {
      "text/plain": [
       "True"
      ]
     },
     "execution_count": 91,
     "metadata": {},
     "output_type": "execute_result"
    }
   ],
   "source": [
    "5 >= -5 # true"
   ]
  },
  {
   "cell_type": "code",
   "execution_count": 92,
   "id": "c54f5d68",
   "metadata": {},
   "outputs": [
    {
     "data": {
      "text/plain": [
       "True"
      ]
     },
     "execution_count": 92,
     "metadata": {},
     "output_type": "execute_result"
    }
   ],
   "source": [
    "True or \"42\" # true"
   ]
  },
  {
   "cell_type": "code",
   "execution_count": 93,
   "id": "8a14e0d6",
   "metadata": {},
   "outputs": [
    {
     "data": {
      "text/plain": [
       "1"
      ]
     },
     "execution_count": 93,
     "metadata": {},
     "output_type": "execute_result"
    }
   ],
   "source": [
    "6 % 5 # 1"
   ]
  },
  {
   "cell_type": "code",
   "execution_count": 94,
   "id": "af726a12",
   "metadata": {},
   "outputs": [
    {
     "data": {
      "text/plain": [
       "False"
      ]
     },
     "execution_count": 94,
     "metadata": {},
     "output_type": "execute_result"
    }
   ],
   "source": [
    "5 < 4 and 1 == 1 # false"
   ]
  },
  {
   "cell_type": "code",
   "execution_count": 95,
   "id": "15d2126f",
   "metadata": {},
   "outputs": [
    {
     "data": {
      "text/plain": [
       "False"
      ]
     },
     "execution_count": 95,
     "metadata": {},
     "output_type": "execute_result"
    }
   ],
   "source": [
    "'codeup' == 'codeup' and 'codeup' == 'Codeup' # false"
   ]
  },
  {
   "cell_type": "code",
   "execution_count": 96,
   "id": "4308108b",
   "metadata": {},
   "outputs": [
    {
     "ename": "SyntaxError",
     "evalue": "invalid syntax (383778220.py, line 1)",
     "output_type": "error",
     "traceback": [
      "\u001b[0;36m  Input \u001b[0;32mIn [96]\u001b[0;36m\u001b[0m\n\u001b[0;31m    4 >= 0 and 1 !== '1'\u001b[0m\n\u001b[0m                   ^\u001b[0m\n\u001b[0;31mSyntaxError\u001b[0m\u001b[0;31m:\u001b[0m invalid syntax\n"
     ]
    }
   ],
   "source": [
    "4 >= 0 and 1 !== '1' # error - invalid syntax, too many = at the end of !=="
   ]
  },
  {
   "cell_type": "code",
   "execution_count": 97,
   "id": "07324fef",
   "metadata": {},
   "outputs": [
    {
     "data": {
      "text/plain": [
       "True"
      ]
     },
     "execution_count": 97,
     "metadata": {},
     "output_type": "execute_result"
    }
   ],
   "source": [
    "6 % 3 == 0 # true because there is no remainder since 3 goes perfectly into 6"
   ]
  },
  {
   "cell_type": "code",
   "execution_count": 98,
   "id": "47894a76",
   "metadata": {},
   "outputs": [
    {
     "data": {
      "text/plain": [
       "True"
      ]
     },
     "execution_count": 98,
     "metadata": {},
     "output_type": "execute_result"
    }
   ],
   "source": [
    "5 % 2 != 0 # true since there is a remainder of 1"
   ]
  },
  {
   "cell_type": "code",
   "execution_count": 99,
   "id": "c9714165",
   "metadata": {},
   "outputs": [
    {
     "ename": "TypeError",
     "evalue": "can only concatenate list (not \"int\") to list",
     "output_type": "error",
     "traceback": [
      "\u001b[0;31m---------------------------------------------------------------------------\u001b[0m",
      "\u001b[0;31mTypeError\u001b[0m                                 Traceback (most recent call last)",
      "Input \u001b[0;32mIn [99]\u001b[0m, in \u001b[0;36m<cell line: 1>\u001b[0;34m()\u001b[0m\n\u001b[0;32m----> 1\u001b[0m \u001b[43m[\u001b[49m\u001b[38;5;241;43m1\u001b[39;49m\u001b[43m]\u001b[49m\u001b[43m \u001b[49m\u001b[38;5;241;43m+\u001b[39;49m\u001b[43m \u001b[49m\u001b[38;5;241;43m2\u001b[39;49m\n",
      "\u001b[0;31mTypeError\u001b[0m: can only concatenate list (not \"int\") to list"
     ]
    }
   ],
   "source": [
    "[1] + 2 # error - can only concat list to list"
   ]
  },
  {
   "cell_type": "code",
   "execution_count": 100,
   "id": "d503e735",
   "metadata": {},
   "outputs": [
    {
     "data": {
      "text/plain": [
       "[1, 2]"
      ]
     },
     "execution_count": 100,
     "metadata": {},
     "output_type": "execute_result"
    }
   ],
   "source": [
    "[1] + [2] # [1, 2]"
   ]
  },
  {
   "cell_type": "code",
   "execution_count": 101,
   "id": "40660ef2",
   "metadata": {},
   "outputs": [
    {
     "data": {
      "text/plain": [
       "[1, 1]"
      ]
     },
     "execution_count": 101,
     "metadata": {},
     "output_type": "execute_result"
    }
   ],
   "source": [
    "[1] * 2 # [1, 1]"
   ]
  },
  {
   "cell_type": "code",
   "execution_count": 102,
   "id": "8e232d82",
   "metadata": {},
   "outputs": [
    {
     "ename": "TypeError",
     "evalue": "can't multiply sequence by non-int of type 'list'",
     "output_type": "error",
     "traceback": [
      "\u001b[0;31m---------------------------------------------------------------------------\u001b[0m",
      "\u001b[0;31mTypeError\u001b[0m                                 Traceback (most recent call last)",
      "Input \u001b[0;32mIn [102]\u001b[0m, in \u001b[0;36m<cell line: 1>\u001b[0;34m()\u001b[0m\n\u001b[0;32m----> 1\u001b[0m \u001b[43m[\u001b[49m\u001b[38;5;241;43m1\u001b[39;49m\u001b[43m]\u001b[49m\u001b[43m \u001b[49m\u001b[38;5;241;43m*\u001b[39;49m\u001b[43m \u001b[49m\u001b[43m[\u001b[49m\u001b[38;5;241;43m2\u001b[39;49m\u001b[43m]\u001b[49m\n",
      "\u001b[0;31mTypeError\u001b[0m: can't multiply sequence by non-int of type 'list'"
     ]
    }
   ],
   "source": [
    "[1] * [2] # error - can't * by non-int of type 'list'"
   ]
  },
  {
   "cell_type": "code",
   "execution_count": 103,
   "id": "8ae6825b",
   "metadata": {},
   "outputs": [
    {
     "data": {
      "text/plain": [
       "True"
      ]
     },
     "execution_count": 103,
     "metadata": {},
     "output_type": "execute_result"
    }
   ],
   "source": [
    "[] + [] == [] # true"
   ]
  },
  {
   "cell_type": "code",
   "execution_count": 104,
   "id": "c9f21df4",
   "metadata": {},
   "outputs": [
    {
     "ename": "TypeError",
     "evalue": "unsupported operand type(s) for +: 'dict' and 'dict'",
     "output_type": "error",
     "traceback": [
      "\u001b[0;31m---------------------------------------------------------------------------\u001b[0m",
      "\u001b[0;31mTypeError\u001b[0m                                 Traceback (most recent call last)",
      "Input \u001b[0;32mIn [104]\u001b[0m, in \u001b[0;36m<cell line: 1>\u001b[0;34m()\u001b[0m\n\u001b[0;32m----> 1\u001b[0m \u001b[43m{\u001b[49m\u001b[43m}\u001b[49m\u001b[43m \u001b[49m\u001b[38;5;241;43m+\u001b[39;49m\u001b[43m \u001b[49m\u001b[43m{\u001b[49m\u001b[43m}\u001b[49m\n",
      "\u001b[0;31mTypeError\u001b[0m: unsupported operand type(s) for +: 'dict' and 'dict'"
     ]
    }
   ],
   "source": [
    "{} + {} # error"
   ]
  },
  {
   "cell_type": "markdown",
   "id": "77fc47ba",
   "metadata": {},
   "source": [
    "### 4. Create a Python script file named data_types_and_variables.py. Inside the script, write Python code to describe the following scenarios. You will need to create and assign variables and use operators."
   ]
  },
  {
   "cell_type": "markdown",
   "id": "4ee6eff2",
   "metadata": {},
   "source": [
    "### 5. You have rented some movies for your kids:\n",
    "\n",
    "The Little Mermaid for 3 days \n",
    "\n",
    "Brother Bear for 5 days \n",
    "\n",
    "Hercules for 1 day \n",
    "\n",
    "If the daily fee to rent a movie is 3 dollars, how much will you have to pay?"
   ]
  },
  {
   "cell_type": "code",
   "execution_count": 12,
   "id": "d04a0dd4",
   "metadata": {},
   "outputs": [],
   "source": [
    "daily_fee = 3"
   ]
  },
  {
   "cell_type": "code",
   "execution_count": 13,
   "id": "6e747356",
   "metadata": {},
   "outputs": [
    {
     "data": {
      "text/plain": [
       "3"
      ]
     },
     "execution_count": 13,
     "metadata": {},
     "output_type": "execute_result"
    }
   ],
   "source": [
    "daily_fee"
   ]
  },
  {
   "cell_type": "code",
   "execution_count": 111,
   "id": "6da3a6cc",
   "metadata": {},
   "outputs": [],
   "source": [
    "the_little_mermaid = 3"
   ]
  },
  {
   "cell_type": "code",
   "execution_count": 112,
   "id": "83ff6ffc",
   "metadata": {},
   "outputs": [],
   "source": [
    "brother_bear = 5"
   ]
  },
  {
   "cell_type": "code",
   "execution_count": 113,
   "id": "bf0dda76",
   "metadata": {},
   "outputs": [],
   "source": [
    "hercules = 1"
   ]
  },
  {
   "cell_type": "code",
   "execution_count": 114,
   "id": "c00a30de",
   "metadata": {},
   "outputs": [
    {
     "data": {
      "text/plain": [
       "27"
      ]
     },
     "execution_count": 114,
     "metadata": {},
     "output_type": "execute_result"
    }
   ],
   "source": [
    "(the_little_mermaid * daily_fee) + (brother_bear * daily_fee) + (hercules * daily_fee)"
   ]
  },
  {
   "cell_type": "code",
   "execution_count": 116,
   "id": "9113baac",
   "metadata": {},
   "outputs": [],
   "source": [
    "total_rate = (the_little_mermaid + brother_bear + hercules) * daily_fee"
   ]
  },
  {
   "cell_type": "code",
   "execution_count": 117,
   "id": "6dbd5e44",
   "metadata": {},
   "outputs": [
    {
     "data": {
      "text/plain": [
       "27"
      ]
     },
     "execution_count": 117,
     "metadata": {},
     "output_type": "execute_result"
    }
   ],
   "source": [
    "total_rate"
   ]
  },
  {
   "cell_type": "markdown",
   "id": "7c0724df",
   "metadata": {},
   "source": [
    "### 6. Suppose you're working as a contractor for 3 companies: Google, Amazon and Facebook.\n",
    "\n",
    "They pay you the following hourly rates:\n",
    "\n",
    "Google: 400 dollars\n",
    "\n",
    "Amazon: 380 dollars\n",
    "\n",
    "Facebook: 350 dollars\n",
    "\n",
    "This week you worked: 10 hours for Facebook, 6 hours for Google and 4 hours for Amazon.\n",
    "\n",
    "How much will you receive in payment for this week?"
   ]
  },
  {
   "cell_type": "code",
   "execution_count": 28,
   "id": "22da44ac",
   "metadata": {},
   "outputs": [],
   "source": [
    "google_hr = 400"
   ]
  },
  {
   "cell_type": "code",
   "execution_count": 30,
   "id": "89a5d3b7",
   "metadata": {},
   "outputs": [],
   "source": [
    "amazon_hr = 380"
   ]
  },
  {
   "cell_type": "code",
   "execution_count": 31,
   "id": "ba1ce34f",
   "metadata": {},
   "outputs": [],
   "source": [
    "facebook_hr = 350"
   ]
  },
  {
   "cell_type": "code",
   "execution_count": 32,
   "id": "e3474d20",
   "metadata": {},
   "outputs": [
    {
     "data": {
      "text/plain": [
       "7420"
      ]
     },
     "execution_count": 32,
     "metadata": {},
     "output_type": "execute_result"
    }
   ],
   "source": [
    "(google_hr * 6) + (amazon_hr * 4) + (facebook_hr * 10)"
   ]
  },
  {
   "cell_type": "code",
   "execution_count": 119,
   "id": "ca8cce24",
   "metadata": {},
   "outputs": [
    {
     "data": {
      "text/plain": [
       "7420"
      ]
     },
     "execution_count": 119,
     "metadata": {},
     "output_type": "execute_result"
    }
   ],
   "source": [
    "google_rate = 400\n",
    "amazon_rate = 380\n",
    "facebook_rate = 350\n",
    "\n",
    "g_hrs = 6\n",
    "a_hrs = 4\n",
    "f_hrs = 10\n",
    "\n",
    "(google_rate * g_hrs) + (amazon_rate * a_hrs) + (facebook_rate * f_hrs)"
   ]
  },
  {
   "cell_type": "markdown",
   "id": "f2fae60d",
   "metadata": {},
   "source": [
    "### 7. A student can be enrolled to a class only if the class is not full and the class schedule does not conflict with her current schedule."
   ]
  },
  {
   "cell_type": "code",
   "execution_count": 41,
   "id": "4ce7094c",
   "metadata": {},
   "outputs": [
    {
     "name": "stdout",
     "output_type": "stream",
     "text": [
      "True\n"
     ]
    }
   ],
   "source": [
    "class_is_not_full = True\n",
    "class_does_not_conflict = True\n",
    "\n",
    "can_be_enrolled = class_is_not_full and class_does_not_conflict\n",
    "print (can_be_enrolled)"
   ]
  },
  {
   "cell_type": "markdown",
   "id": "cc5d8c6a",
   "metadata": {},
   "source": [
    "### 8. A product offer can be applied only if people buys more than 2 items, and the offer has not expired. Premium members do not need to buy a specific amount of products."
   ]
  },
  {
   "cell_type": "code",
   "execution_count": 121,
   "id": "cbc43149",
   "metadata": {},
   "outputs": [
    {
     "name": "stdout",
     "output_type": "stream",
     "text": [
      "True\n"
     ]
    }
   ],
   "source": [
    "premium_member = True\n",
    "buys_more_than_2_items = True\n",
    "offer_has_not_expired = True\n",
    "\n",
    "product_offer_can_be_applied = offer_has_not_expired and (buys_more_than_2_items or premium_member)\n",
    "print(product_offer_can_be_applied)"
   ]
  },
  {
   "cell_type": "markdown",
   "id": "0a56cff6",
   "metadata": {},
   "source": [
    "### 9. Continue working in the data_types_and_variables.py file. Use the following code to follow the instructions below: Create a variable that holds a boolean value for each of the following conditions:"
   ]
  },
  {
   "cell_type": "code",
   "execution_count": 45,
   "id": "cd4e1b0b",
   "metadata": {},
   "outputs": [],
   "source": [
    "username = 'codeup'\n",
    "password = 'notastrongpassword'"
   ]
  },
  {
   "cell_type": "markdown",
   "id": "f18b6532",
   "metadata": {},
   "source": [
    "The password must be at least 5 characters"
   ]
  },
  {
   "cell_type": "code",
   "execution_count": 122,
   "id": "5c16be29",
   "metadata": {},
   "outputs": [],
   "source": [
    "check_1 = len(password) >= 5"
   ]
  },
  {
   "cell_type": "code",
   "execution_count": 125,
   "id": "4f5f5efb",
   "metadata": {},
   "outputs": [
    {
     "data": {
      "text/plain": [
       "True"
      ]
     },
     "execution_count": 125,
     "metadata": {},
     "output_type": "execute_result"
    }
   ],
   "source": [
    "check_1"
   ]
  },
  {
   "cell_type": "markdown",
   "id": "fb360954",
   "metadata": {},
   "source": [
    "The username must be no more than 20 characters"
   ]
  },
  {
   "cell_type": "code",
   "execution_count": 124,
   "id": "699b8fc2",
   "metadata": {},
   "outputs": [],
   "source": [
    "check_2 = len(username) <= 20"
   ]
  },
  {
   "cell_type": "code",
   "execution_count": 126,
   "id": "4f91f0ba",
   "metadata": {},
   "outputs": [
    {
     "data": {
      "text/plain": [
       "True"
      ]
     },
     "execution_count": 126,
     "metadata": {},
     "output_type": "execute_result"
    }
   ],
   "source": [
    "check_2"
   ]
  },
  {
   "cell_type": "markdown",
   "id": "190318b2",
   "metadata": {},
   "source": [
    "The password must not be the same as the username"
   ]
  },
  {
   "cell_type": "code",
   "execution_count": 123,
   "id": "35615aba",
   "metadata": {},
   "outputs": [],
   "source": [
    "check_3 = password != username"
   ]
  },
  {
   "cell_type": "code",
   "execution_count": 127,
   "id": "89f74053",
   "metadata": {},
   "outputs": [
    {
     "data": {
      "text/plain": [
       "True"
      ]
     },
     "execution_count": 127,
     "metadata": {},
     "output_type": "execute_result"
    }
   ],
   "source": [
    "check_3"
   ]
  },
  {
   "cell_type": "markdown",
   "id": "27cc42ce",
   "metadata": {},
   "source": [
    "#### did not attempt check_4 below"
   ]
  },
  {
   "cell_type": "code",
   "execution_count": 128,
   "id": "8cf3c2a2",
   "metadata": {},
   "outputs": [],
   "source": [
    "check_4 = username.strip() == username and password.strip() == password"
   ]
  },
  {
   "cell_type": "code",
   "execution_count": 129,
   "id": "c9b9e47a",
   "metadata": {},
   "outputs": [
    {
     "data": {
      "text/plain": [
       "True"
      ]
     },
     "execution_count": 129,
     "metadata": {},
     "output_type": "execute_result"
    }
   ],
   "source": [
    "check_4"
   ]
  }
 ],
 "metadata": {
  "kernelspec": {
   "display_name": "Python 3 (ipykernel)",
   "language": "python",
   "name": "python3"
  },
  "language_info": {
   "codemirror_mode": {
    "name": "ipython",
    "version": 3
   },
   "file_extension": ".py",
   "mimetype": "text/x-python",
   "name": "python",
   "nbconvert_exporter": "python",
   "pygments_lexer": "ipython3",
   "version": "3.9.13"
  }
 },
 "nbformat": 4,
 "nbformat_minor": 5
}
