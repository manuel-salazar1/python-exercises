{
 "cells": [
  {
   "cell_type": "markdown",
   "id": "3baffd4f",
   "metadata": {},
   "source": [
    "# Functions"
   ]
  },
  {
   "cell_type": "markdown",
   "id": "9db1794f",
   "metadata": {},
   "source": [
    "What are they? generally code that takes in data, transforms it, and outputs new data"
   ]
  },
  {
   "cell_type": "markdown",
   "id": "1b8d633d",
   "metadata": {},
   "source": [
    "Why do we care? because we can use already made code to repeat the same block code over and over! "
   ]
  },
  {
   "cell_type": "markdown",
   "id": "6bc75031",
   "metadata": {},
   "source": [
    "generally interacting with two types\n",
    "- someone else's function\n",
    "- or a function that you create! "
   ]
  },
  {
   "cell_type": "markdown",
   "id": "919efd5d",
   "metadata": {},
   "source": [
    "note: functions always have those parenthesis at the end! "
   ]
  },
  {
   "cell_type": "markdown",
   "id": "1611775b",
   "metadata": {},
   "source": [
    "## built-in functions"
   ]
  },
  {
   "cell_type": "markdown",
   "id": "32914baa",
   "metadata": {},
   "source": [
    "#### some you may have already seen"
   ]
  },
  {
   "cell_type": "code",
   "execution_count": 2,
   "id": "967eae14",
   "metadata": {},
   "outputs": [],
   "source": [
    "#new list\n",
    "ls = [1,34,5245,3,23,13467,-2]"
   ]
  },
  {
   "cell_type": "code",
   "execution_count": 5,
   "id": "b1670d10",
   "metadata": {},
   "outputs": [
    {
     "data": {
      "text/plain": [
       "(13467, -2, 18771, None)"
      ]
     },
     "execution_count": 5,
     "metadata": {},
     "output_type": "execute_result"
    }
   ],
   "source": [
    "max(ls), min(ls), sum(ls)"
   ]
  },
  {
   "cell_type": "code",
   "execution_count": 6,
   "id": "581c910b",
   "metadata": {},
   "outputs": [],
   "source": [
    "ls.sort()"
   ]
  },
  {
   "cell_type": "code",
   "execution_count": 7,
   "id": "9b33b2f7",
   "metadata": {},
   "outputs": [
    {
     "data": {
      "text/plain": [
       "[-2, 1, 3, 23, 34, 5245, 13467]"
      ]
     },
     "execution_count": 7,
     "metadata": {},
     "output_type": "execute_result"
    }
   ],
   "source": [
    "ls"
   ]
  },
  {
   "cell_type": "code",
   "execution_count": 8,
   "id": "fb14307d",
   "metadata": {},
   "outputs": [
    {
     "data": {
      "text/plain": [
       "7"
      ]
     },
     "execution_count": 8,
     "metadata": {},
     "output_type": "execute_result"
    }
   ],
   "source": [
    "len(ls)"
   ]
  },
  {
   "cell_type": "code",
   "execution_count": 10,
   "id": "e73ee4c0",
   "metadata": {},
   "outputs": [
    {
     "data": {
      "text/plain": [
       "2681.57"
      ]
     },
     "execution_count": 10,
     "metadata": {},
     "output_type": "execute_result"
    }
   ],
   "source": [
    "# find average\n",
    "round(sum(ls) / len(ls), 2)"
   ]
  },
  {
   "cell_type": "markdown",
   "id": "a8ae3724",
   "metadata": {},
   "source": [
    "- methods are getting applied to an object\n",
    "- vs sending an object into a function"
   ]
  },
  {
   "cell_type": "code",
   "execution_count": null,
   "id": "2e25e434",
   "metadata": {},
   "outputs": [],
   "source": []
  },
  {
   "cell_type": "markdown",
   "id": "37db4ad7",
   "metadata": {},
   "source": [
    "#### troubleshooting errors"
   ]
  },
  {
   "cell_type": "code",
   "execution_count": 11,
   "id": "bc5754bb",
   "metadata": {},
   "outputs": [
    {
     "data": {
      "text/plain": [
       "<function len(obj, /)>"
      ]
     },
     "execution_count": 11,
     "metadata": {},
     "output_type": "execute_result"
    }
   ],
   "source": [
    "len"
   ]
  },
  {
   "cell_type": "markdown",
   "id": "6ac93e01",
   "metadata": {},
   "source": [
    "- whenever you see the pointy brackets, you are missing something\n",
    "- in this case, you are missing the parenthesis"
   ]
  },
  {
   "cell_type": "code",
   "execution_count": 12,
   "id": "e2797525",
   "metadata": {},
   "outputs": [
    {
     "ename": "TypeError",
     "evalue": "len() takes exactly one argument (0 given)",
     "output_type": "error",
     "traceback": [
      "\u001b[0;31m---------------------------------------------------------------------------\u001b[0m",
      "\u001b[0;31mTypeError\u001b[0m                                 Traceback (most recent call last)",
      "Input \u001b[0;32mIn [12]\u001b[0m, in \u001b[0;36m<cell line: 1>\u001b[0;34m()\u001b[0m\n\u001b[0;32m----> 1\u001b[0m \u001b[38;5;28;43mlen\u001b[39;49m\u001b[43m(\u001b[49m\u001b[43m)\u001b[49m\n",
      "\u001b[0;31mTypeError\u001b[0m: len() takes exactly one argument (0 given)"
     ]
    }
   ],
   "source": [
    "len()"
   ]
  },
  {
   "cell_type": "markdown",
   "id": "6cc38b1b",
   "metadata": {},
   "source": [
    "- Telling us we are missing something inside the parenthesis ()"
   ]
  },
  {
   "cell_type": "markdown",
   "id": "23919c73",
   "metadata": {},
   "source": [
    "## make our own functions!\n",
    "\n",
    "1. first define the function (create it)\n",
    "2. then call the function (access it)"
   ]
  },
  {
   "cell_type": "markdown",
   "id": "aae3ba1f",
   "metadata": {},
   "source": [
    "#### define a function"
   ]
  },
  {
   "cell_type": "code",
   "execution_count": null,
   "id": "19f12c2a",
   "metadata": {},
   "outputs": [],
   "source": [
    "# FORMAT:\n",
    "# def [function_name]([input]):\n",
    "#     return [output]"
   ]
  },
  {
   "cell_type": "code",
   "execution_count": 17,
   "id": "ffb956d2",
   "metadata": {},
   "outputs": [],
   "source": [
    "#create a function that adds one every time\n",
    "def add_one(input_variable):\n",
    "    '''\n",
    "    takes an int and adds one to it\n",
    "    '''\n",
    "    return input_variable + 1"
   ]
  },
  {
   "cell_type": "markdown",
   "id": "d2aa520d",
   "metadata": {},
   "source": [
    "- any variables made inside a function ONLY EXIST INSIDE THE FUNCTION"
   ]
  },
  {
   "cell_type": "markdown",
   "id": "103adadf",
   "metadata": {},
   "source": [
    "what's happening in the above code?\n"
   ]
  },
  {
   "cell_type": "markdown",
   "id": "572fe0be",
   "metadata": {},
   "source": [
    "- defining my function called 'add_one'\n",
    "- accepting an input and labeling it 'input_variable'\n",
    "- return that input_variable with 1 added to it"
   ]
  },
  {
   "cell_type": "markdown",
   "id": "cabbfada",
   "metadata": {},
   "source": [
    "note:\n",
    "- all we have done so far is define our function\n",
    "- nothing is executing"
   ]
  },
  {
   "cell_type": "markdown",
   "id": "5837c94b",
   "metadata": {},
   "source": [
    "#### call the function we created"
   ]
  },
  {
   "cell_type": "code",
   "execution_count": null,
   "id": "b7940b27",
   "metadata": {},
   "outputs": [],
   "source": [
    "# FORMAT:\n",
    "# [function_name]([input])"
   ]
  },
  {
   "cell_type": "code",
   "execution_count": 15,
   "id": "321378fb",
   "metadata": {},
   "outputs": [
    {
     "data": {
      "text/plain": [
       "11"
      ]
     },
     "execution_count": 15,
     "metadata": {},
     "output_type": "execute_result"
    }
   ],
   "source": [
    "add_one(10)"
   ]
  },
  {
   "cell_type": "code",
   "execution_count": 16,
   "id": "2da7333b",
   "metadata": {},
   "outputs": [
    {
     "data": {
      "text/plain": [
       "6"
      ]
     },
     "execution_count": 16,
     "metadata": {},
     "output_type": "execute_result"
    }
   ],
   "source": [
    "add_one(len('hello'))"
   ]
  },
  {
   "cell_type": "code",
   "execution_count": 18,
   "id": "2c425813",
   "metadata": {},
   "outputs": [],
   "source": [
    "add_one?"
   ]
  },
  {
   "cell_type": "code",
   "execution_count": 20,
   "id": "24348e45",
   "metadata": {},
   "outputs": [
    {
     "data": {
      "text/plain": [
       "8"
      ]
     },
     "execution_count": 20,
     "metadata": {},
     "output_type": "execute_result"
    }
   ],
   "source": [
    "#nest the function\n",
    "add_one(add_one(add_one(5))) # These are executing from inside to out"
   ]
  },
  {
   "cell_type": "code",
   "execution_count": null,
   "id": "fe75c146",
   "metadata": {},
   "outputs": [],
   "source": []
  },
  {
   "cell_type": "code",
   "execution_count": null,
   "id": "e90fd032",
   "metadata": {},
   "outputs": [],
   "source": []
  },
  {
   "cell_type": "code",
   "execution_count": null,
   "id": "f54397ff",
   "metadata": {},
   "outputs": [],
   "source": []
  },
  {
   "cell_type": "code",
   "execution_count": null,
   "id": "db2e8581",
   "metadata": {},
   "outputs": [],
   "source": []
  },
  {
   "cell_type": "markdown",
   "id": "1a732293",
   "metadata": {},
   "source": [
    "#### look at the input variable"
   ]
  },
  {
   "cell_type": "code",
   "execution_count": null,
   "id": "7f7eaa75",
   "metadata": {},
   "outputs": [],
   "source": []
  },
  {
   "cell_type": "markdown",
   "id": "df0b44c3",
   "metadata": {},
   "source": [
    "### printing vs returning vs nothing in functions"
   ]
  },
  {
   "cell_type": "markdown",
   "id": "89cdd219",
   "metadata": {},
   "source": [
    "#### define em"
   ]
  },
  {
   "cell_type": "code",
   "execution_count": 21,
   "id": "726733f6",
   "metadata": {},
   "outputs": [],
   "source": [
    "def add_one_return(i):\n",
    "    return i +1"
   ]
  },
  {
   "cell_type": "code",
   "execution_count": 22,
   "id": "ca1a6f6d",
   "metadata": {},
   "outputs": [],
   "source": [
    "def add_one_print(i):\n",
    "    print(i+1)"
   ]
  },
  {
   "cell_type": "code",
   "execution_count": 23,
   "id": "e41f56bd",
   "metadata": {},
   "outputs": [],
   "source": [
    "def add_one_none(i):\n",
    "    i + 1"
   ]
  },
  {
   "cell_type": "code",
   "execution_count": 24,
   "id": "68bb7612",
   "metadata": {},
   "outputs": [
    {
     "data": {
      "text/plain": [
       "6"
      ]
     },
     "execution_count": 24,
     "metadata": {},
     "output_type": "execute_result"
    }
   ],
   "source": [
    "add_one_return(5)"
   ]
  },
  {
   "cell_type": "code",
   "execution_count": null,
   "id": "78e53958",
   "metadata": {},
   "outputs": [],
   "source": []
  },
  {
   "cell_type": "code",
   "execution_count": null,
   "id": "a6c20949",
   "metadata": {},
   "outputs": [],
   "source": []
  },
  {
   "cell_type": "markdown",
   "id": "792ede87",
   "metadata": {},
   "source": [
    "#### call em"
   ]
  },
  {
   "cell_type": "code",
   "execution_count": null,
   "id": "19a1d91f",
   "metadata": {},
   "outputs": [],
   "source": [
    "# add_one_return"
   ]
  },
  {
   "cell_type": "code",
   "execution_count": null,
   "id": "e797d61f",
   "metadata": {},
   "outputs": [],
   "source": [
    "# add_one_print"
   ]
  },
  {
   "cell_type": "code",
   "execution_count": null,
   "id": "8d985dfc",
   "metadata": {},
   "outputs": [],
   "source": [
    "# add_one_none"
   ]
  },
  {
   "cell_type": "markdown",
   "id": "11e9d59f",
   "metadata": {},
   "source": [
    "questions:\n",
    "- return and print look the same, are they?\n",
    "- why does add_one_none return nothing?"
   ]
  },
  {
   "cell_type": "markdown",
   "id": "457cb0fb",
   "metadata": {},
   "source": [
    "#### investigate"
   ]
  },
  {
   "cell_type": "code",
   "execution_count": null,
   "id": "83415245",
   "metadata": {},
   "outputs": [],
   "source": []
  },
  {
   "cell_type": "code",
   "execution_count": null,
   "id": "5409e5a7",
   "metadata": {},
   "outputs": [],
   "source": []
  },
  {
   "cell_type": "code",
   "execution_count": null,
   "id": "e30850f3",
   "metadata": {},
   "outputs": [],
   "source": []
  },
  {
   "cell_type": "markdown",
   "id": "ee003c5c",
   "metadata": {},
   "source": [
    "### lets make it more complex"
   ]
  },
  {
   "cell_type": "markdown",
   "id": "36e99e18",
   "metadata": {},
   "source": [
    "#### ex. let's create a function that takes in a string, uppercases everything and then adds 3 exclamation points  "
   ]
  },
  {
   "cell_type": "markdown",
   "id": "a04d0475",
   "metadata": {},
   "source": [
    "best practice for creating functions\n",
    "1. get your code working outside of the function first\n",
    "2. once your code is working correctly, then define it as a function\n",
    "3. call and test your function"
   ]
  },
  {
   "cell_type": "markdown",
   "id": "eaaec7b0",
   "metadata": {},
   "source": [
    "#### 1. get your code working outside of the function first"
   ]
  },
  {
   "cell_type": "code",
   "execution_count": 26,
   "id": "aa080a25",
   "metadata": {},
   "outputs": [],
   "source": [
    "string = 'hello pagel class'"
   ]
  },
  {
   "cell_type": "code",
   "execution_count": 28,
   "id": "ca826882",
   "metadata": {},
   "outputs": [
    {
     "data": {
      "text/plain": [
       "'HELLO PAGEL CLASS'"
      ]
     },
     "execution_count": 28,
     "metadata": {},
     "output_type": "execute_result"
    }
   ],
   "source": [
    "string = string.upper()\n",
    "string"
   ]
  },
  {
   "cell_type": "code",
   "execution_count": 30,
   "id": "79a7feef",
   "metadata": {},
   "outputs": [
    {
     "data": {
      "text/plain": [
       "'HELLO PAGEL CLASS!!!'"
      ]
     },
     "execution_count": 30,
     "metadata": {},
     "output_type": "execute_result"
    }
   ],
   "source": [
    "string = string + '!!!'\n",
    "string"
   ]
  },
  {
   "cell_type": "code",
   "execution_count": 33,
   "id": "ae913733",
   "metadata": {},
   "outputs": [],
   "source": []
  },
  {
   "cell_type": "markdown",
   "id": "35ca2153",
   "metadata": {},
   "source": [
    "#### 2. once your code is working correctly, then define it as a function"
   ]
  },
  {
   "cell_type": "code",
   "execution_count": 36,
   "id": "5bb09baf",
   "metadata": {},
   "outputs": [],
   "source": [
    "def loud_string(input_string): # ONLY one argument\n",
    "    input_string = input_string.upper() # make sure your input variable matches\n",
    "    # the variable inside your function\n",
    "    input_string = input_string + '!!!'\n",
    "    return input_string # all i need to output is my transformed variable"
   ]
  },
  {
   "cell_type": "markdown",
   "id": "9cc975ee",
   "metadata": {},
   "source": [
    "#### 3. call and test your function"
   ]
  },
  {
   "cell_type": "code",
   "execution_count": 35,
   "id": "6bff5eae",
   "metadata": {},
   "outputs": [
    {
     "data": {
      "text/plain": [
       "'HOW ARE YOU?!!!'"
      ]
     },
     "execution_count": 35,
     "metadata": {},
     "output_type": "execute_result"
    }
   ],
   "source": [
    "loud_string('how are you?')"
   ]
  },
  {
   "cell_type": "code",
   "execution_count": 37,
   "id": "a507e3a6",
   "metadata": {},
   "outputs": [
    {
     "data": {
      "text/plain": [
       "'PYTHON IS FUN!!!'"
      ]
     },
     "execution_count": 37,
     "metadata": {},
     "output_type": "execute_result"
    }
   ],
   "source": [
    "loud_string('Python is fun')"
   ]
  },
  {
   "cell_type": "markdown",
   "id": "31f5953d",
   "metadata": {},
   "source": [
    "### arguments"
   ]
  },
  {
   "cell_type": "markdown",
   "id": "7910c606",
   "metadata": {},
   "source": [
    "-- argument: the value a function is called with"
   ]
  },
  {
   "cell_type": "markdown",
   "id": "616e6329",
   "metadata": {},
   "source": [
    "#### multiples"
   ]
  },
  {
   "cell_type": "code",
   "execution_count": 39,
   "id": "1380edab",
   "metadata": {},
   "outputs": [],
   "source": [
    "def add_things(a,b): #takes two arguments\n",
    "    result = a + b\n",
    "    return result"
   ]
  },
  {
   "cell_type": "code",
   "execution_count": 40,
   "id": "d9f907fd",
   "metadata": {},
   "outputs": [
    {
     "data": {
      "text/plain": [
       "15"
      ]
     },
     "execution_count": 40,
     "metadata": {},
     "output_type": "execute_result"
    }
   ],
   "source": [
    "add_things(5,10)"
   ]
  },
  {
   "cell_type": "code",
   "execution_count": 41,
   "id": "3494e453",
   "metadata": {},
   "outputs": [
    {
     "data": {
      "text/plain": [
       "'hello pagel'"
      ]
     },
     "execution_count": 41,
     "metadata": {},
     "output_type": "execute_result"
    }
   ],
   "source": [
    "add_things('hello ','pagel')"
   ]
  },
  {
   "cell_type": "code",
   "execution_count": null,
   "id": "28ccf9ff",
   "metadata": {},
   "outputs": [],
   "source": []
  },
  {
   "cell_type": "markdown",
   "id": "4168eb7c",
   "metadata": {},
   "source": [
    "#### position matters"
   ]
  },
  {
   "cell_type": "code",
   "execution_count": 42,
   "id": "3ff6d476",
   "metadata": {},
   "outputs": [],
   "source": [
    "def do_things(a,b):\n",
    "    a = a + 1\n",
    "    b = b * -1000\n",
    "    return a,b"
   ]
  },
  {
   "cell_type": "code",
   "execution_count": 43,
   "id": "bd23c91d",
   "metadata": {},
   "outputs": [
    {
     "data": {
      "text/plain": [
       "(6, -10000)"
      ]
     },
     "execution_count": 43,
     "metadata": {},
     "output_type": "execute_result"
    }
   ],
   "source": [
    "do_things(5,10)"
   ]
  },
  {
   "cell_type": "code",
   "execution_count": 47,
   "id": "02742c71",
   "metadata": {},
   "outputs": [
    {
     "data": {
      "text/plain": [
       "function"
      ]
     },
     "execution_count": 47,
     "metadata": {},
     "output_type": "execute_result"
    }
   ],
   "source": []
  },
  {
   "cell_type": "markdown",
   "id": "e6a4651d",
   "metadata": {},
   "source": [
    "#### kwargs (keyword arguments)"
   ]
  },
  {
   "cell_type": "code",
   "execution_count": 51,
   "id": "52e54b6d",
   "metadata": {},
   "outputs": [
    {
     "data": {
      "text/plain": [
       "(11, -5000)"
      ]
     },
     "execution_count": 51,
     "metadata": {},
     "output_type": "execute_result"
    }
   ],
   "source": [
    "#call do_things by keyword\n",
    "do_things(b=5, a=10)"
   ]
  },
  {
   "cell_type": "markdown",
   "id": "6c61ae69",
   "metadata": {},
   "source": [
    "- they are returning in the order they are written in the return statement"
   ]
  },
  {
   "cell_type": "code",
   "execution_count": null,
   "id": "c8b3a9cd",
   "metadata": {},
   "outputs": [],
   "source": []
  },
  {
   "cell_type": "markdown",
   "id": "767a781b",
   "metadata": {},
   "source": [
    "#### default values"
   ]
  },
  {
   "cell_type": "code",
   "execution_count": 52,
   "id": "4cfdd790",
   "metadata": {},
   "outputs": [],
   "source": [
    "def do_things_extra(a=200, b=5): #defining default values\n",
    "    a = a + 1\n",
    "    b = b * -1000\n",
    "    return(a,b)"
   ]
  },
  {
   "cell_type": "code",
   "execution_count": 54,
   "id": "b4810105",
   "metadata": {},
   "outputs": [
    {
     "data": {
      "text/plain": [
       "(201, -5000)"
      ]
     },
     "execution_count": 54,
     "metadata": {},
     "output_type": "execute_result"
    }
   ],
   "source": [
    "do_things_extra() # default values are already assigned"
   ]
  },
  {
   "cell_type": "code",
   "execution_count": 55,
   "id": "125db0a2",
   "metadata": {},
   "outputs": [
    {
     "data": {
      "text/plain": [
       "(2, -3000)"
      ]
     },
     "execution_count": 55,
     "metadata": {},
     "output_type": "execute_result"
    }
   ],
   "source": [
    "do_things_extra(1,3)"
   ]
  },
  {
   "cell_type": "code",
   "execution_count": 56,
   "id": "c1868931",
   "metadata": {},
   "outputs": [
    {
     "data": {
      "text/plain": [
       "(11, -5000)"
      ]
     },
     "execution_count": 56,
     "metadata": {},
     "output_type": "execute_result"
    }
   ],
   "source": [
    "do_things_extra(10) #first number assigned to first value unless specified otherwise"
   ]
  },
  {
   "cell_type": "code",
   "execution_count": null,
   "id": "c65ff749",
   "metadata": {},
   "outputs": [],
   "source": []
  },
  {
   "cell_type": "markdown",
   "id": "26395a8e",
   "metadata": {},
   "source": [
    "#### unpacking arguments, NOT super common"
   ]
  },
  {
   "cell_type": "code",
   "execution_count": 57,
   "id": "f6a226f7",
   "metadata": {},
   "outputs": [],
   "source": [
    "#by list\n",
    "args = [5,10]"
   ]
  },
  {
   "cell_type": "code",
   "execution_count": 58,
   "id": "bf2f6c03",
   "metadata": {},
   "outputs": [
    {
     "data": {
      "text/plain": [
       "(6, -10000)"
      ]
     },
     "execution_count": 58,
     "metadata": {},
     "output_type": "execute_result"
    }
   ],
   "source": [
    "do_things(*args)"
   ]
  },
  {
   "cell_type": "markdown",
   "id": "9159c734",
   "metadata": {},
   "source": [
    "- to pull each piece from the list, we need the '*' in front"
   ]
  },
  {
   "cell_type": "code",
   "execution_count": 59,
   "id": "1b62cdbb",
   "metadata": {},
   "outputs": [],
   "source": [
    "#by dictionary\n",
    "kwargs = {'b':50, 'a':2}"
   ]
  },
  {
   "cell_type": "code",
   "execution_count": 60,
   "id": "c7d1c2f5",
   "metadata": {},
   "outputs": [
    {
     "data": {
      "text/plain": [
       "(3, -50000)"
      ]
     },
     "execution_count": 60,
     "metadata": {},
     "output_type": "execute_result"
    }
   ],
   "source": [
    "do_things(**kwargs)"
   ]
  },
  {
   "cell_type": "markdown",
   "id": "4c2f7e32",
   "metadata": {},
   "source": [
    "- the ** allow us to unpack the dictionary by argument name"
   ]
  },
  {
   "cell_type": "code",
   "execution_count": null,
   "id": "5fd4f870",
   "metadata": {},
   "outputs": [],
   "source": []
  },
  {
   "cell_type": "markdown",
   "id": "1d0a38f4",
   "metadata": {},
   "source": [
    "### scope"
   ]
  },
  {
   "cell_type": "code",
   "execution_count": 61,
   "id": "522940c4",
   "metadata": {},
   "outputs": [],
   "source": [
    "outside_number = 10 "
   ]
  },
  {
   "cell_type": "code",
   "execution_count": 62,
   "id": "88eff03b",
   "metadata": {},
   "outputs": [
    {
     "name": "stdout",
     "output_type": "stream",
     "text": [
      "hello\n"
     ]
    }
   ],
   "source": [
    "def do_math(func_numb):\n",
    "    print(outside_number) #working as a global variable\n",
    "    print(func_numb)\n",
    "    \n",
    "print('hello') #not indented, not inside the function, so it prints out"
   ]
  },
  {
   "cell_type": "code",
   "execution_count": 63,
   "id": "efb6ad90",
   "metadata": {},
   "outputs": [
    {
     "name": "stdout",
     "output_type": "stream",
     "text": [
      "10\n",
      "5\n"
     ]
    }
   ],
   "source": [
    "do_math(5)"
   ]
  },
  {
   "cell_type": "markdown",
   "id": "c81bb9da",
   "metadata": {},
   "source": [
    "- be mindful of what your variable names are, and where they are defined at\n",
    "- are they defined outside or inside of the function?"
   ]
  },
  {
   "cell_type": "markdown",
   "id": "5009d36a",
   "metadata": {},
   "source": [
    "- only use a print statement if you want to see the output, but not save it for later\n",
    "- you need the return statement to save the variable"
   ]
  },
  {
   "cell_type": "markdown",
   "id": "5c008ef7",
   "metadata": {},
   "source": [
    "### lambda"
   ]
  },
  {
   "cell_type": "markdown",
   "id": "01079553",
   "metadata": {},
   "source": [
    "- a function that can be created in one line, when you have a one line return statement "
   ]
  },
  {
   "cell_type": "code",
   "execution_count": null,
   "id": "fe88bc14",
   "metadata": {},
   "outputs": [],
   "source": [
    "# FORMAT: \n",
    "# [function_name] = lambda [variable] : [transform_variable] "
   ]
  },
  {
   "cell_type": "code",
   "execution_count": null,
   "id": "e0080e57",
   "metadata": {},
   "outputs": [],
   "source": [
    "# # long way\n",
    "def add_one_try_again(n):\n",
    "    return n + 1"
   ]
  },
  {
   "cell_type": "code",
   "execution_count": 64,
   "id": "521f671d",
   "metadata": {},
   "outputs": [],
   "source": [
    "add_one_lambda = lambda n : n + 1"
   ]
  },
  {
   "cell_type": "code",
   "execution_count": 65,
   "id": "37d727e6",
   "metadata": {},
   "outputs": [
    {
     "data": {
      "text/plain": [
       "6"
      ]
     },
     "execution_count": 65,
     "metadata": {},
     "output_type": "execute_result"
    }
   ],
   "source": [
    "add_one_lambda(5)"
   ]
  },
  {
   "cell_type": "code",
   "execution_count": null,
   "id": "a8c950eb",
   "metadata": {},
   "outputs": [],
   "source": []
  }
 ],
 "metadata": {
  "kernelspec": {
   "display_name": "Python 3 (ipykernel)",
   "language": "python",
   "name": "python3"
  },
  "language_info": {
   "codemirror_mode": {
    "name": "ipython",
    "version": 3
   },
   "file_extension": ".py",
   "mimetype": "text/x-python",
   "name": "python",
   "nbconvert_exporter": "python",
   "pygments_lexer": "ipython3",
   "version": "3.9.13"
  }
 },
 "nbformat": 4,
 "nbformat_minor": 5
}
