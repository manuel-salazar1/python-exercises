{
 "cells": [
  {
   "cell_type": "markdown",
   "id": "57765c97",
   "metadata": {},
   "source": [
    "Import and test 3 of the functions from your functions exercise file. Import each function in a different way:"
   ]
  },
  {
   "cell_type": "code",
   "execution_count": 1,
   "id": "0c420cbe",
   "metadata": {},
   "outputs": [],
   "source": [
    "import function_exercises as fe"
   ]
  },
  {
   "cell_type": "markdown",
   "id": "ec4a53e8",
   "metadata": {},
   "source": [
    "Run an interactive python session and import the module. Call the is_vowel function using the . syntax."
   ]
  },
  {
   "cell_type": "code",
   "execution_count": 7,
   "id": "513c84c1",
   "metadata": {},
   "outputs": [
    {
     "data": {
      "text/plain": [
       "True"
      ]
     },
     "execution_count": 7,
     "metadata": {},
     "output_type": "execute_result"
    }
   ],
   "source": [
    "fe.is_vowel('A')"
   ]
  },
  {
   "cell_type": "markdown",
   "id": "f92a426b",
   "metadata": {},
   "source": [
    "Create a file named import_exericses.py. Within this file, use from to import the calculate_tip function directly. Call this function with values you choose and print the result."
   ]
  },
  {
   "cell_type": "code",
   "execution_count": 8,
   "id": "40882f34",
   "metadata": {},
   "outputs": [
    {
     "data": {
      "text/plain": [
       "8.6202"
      ]
     },
     "execution_count": 8,
     "metadata": {},
     "output_type": "execute_result"
    }
   ],
   "source": [
    "fe.calculate_tip(.18, 47.89)"
   ]
  },
  {
   "cell_type": "code",
   "execution_count": 9,
   "id": "66e46cd5",
   "metadata": {},
   "outputs": [
    {
     "data": {
      "text/plain": [
       "'D'"
      ]
     },
     "execution_count": 9,
     "metadata": {},
     "output_type": "execute_result"
    }
   ],
   "source": [
    "fe.get_letter_grade(69)"
   ]
  },
  {
   "cell_type": "markdown",
   "id": "9e894a46",
   "metadata": {},
   "source": [
    "How many different ways can you combine a single letter from \"abc\" with either 1, 2, or 3?"
   ]
  },
  {
   "cell_type": "code",
   "execution_count": 12,
   "id": "ea5c952b",
   "metadata": {},
   "outputs": [],
   "source": [
    "import itertools"
   ]
  },
  {
   "cell_type": "code",
   "execution_count": 15,
   "id": "9f5cdf20",
   "metadata": {},
   "outputs": [
    {
     "ename": "SyntaxError",
     "evalue": "invalid syntax (1955061768.py, line 1)",
     "output_type": "error",
     "traceback": [
      "\u001b[0;36m  Input \u001b[0;32mIn [15]\u001b[0;36m\u001b[0m\n\u001b[0;31m    itertools.combinations('abc123', 2):\u001b[0m\n\u001b[0m                                        ^\u001b[0m\n\u001b[0;31mSyntaxError\u001b[0m\u001b[0;31m:\u001b[0m invalid syntax\n"
     ]
    }
   ],
   "source": [
    "itertools.combinations('abc123', 2):"
   ]
  }
 ],
 "metadata": {
  "kernelspec": {
   "display_name": "Python 3 (ipykernel)",
   "language": "python",
   "name": "python3"
  },
  "language_info": {
   "codemirror_mode": {
    "name": "ipython",
    "version": 3
   },
   "file_extension": ".py",
   "mimetype": "text/x-python",
   "name": "python",
   "nbconvert_exporter": "python",
   "pygments_lexer": "ipython3",
   "version": "3.9.13"
  }
 },
 "nbformat": 4,
 "nbformat_minor": 5
}
