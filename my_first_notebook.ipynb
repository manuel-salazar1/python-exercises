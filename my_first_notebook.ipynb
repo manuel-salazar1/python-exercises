{
 "cells": [
  {
   "cell_type": "code",
   "execution_count": 2,
   "id": "80328e3f",
   "metadata": {},
   "outputs": [
    {
     "data": {
      "text/plain": [
       "4"
      ]
     },
     "execution_count": 2,
     "metadata": {},
     "output_type": "execute_result"
    }
   ],
   "source": [
    "2 + 2"
   ]
  },
  {
   "cell_type": "code",
   "execution_count": 3,
   "id": "cb2a3f9e",
   "metadata": {},
   "outputs": [
    {
     "name": "stdout",
     "output_type": "stream",
     "text": [
      "Shift + Enter = run the current cell, select below\n"
     ]
    }
   ],
   "source": [
    "print (\"Shift + Enter = run the current cell, select below\")"
   ]
  },
  {
   "cell_type": "code",
   "execution_count": 4,
   "id": "ec893113",
   "metadata": {},
   "outputs": [
    {
     "name": "stdout",
     "output_type": "stream",
     "text": [
      "B = insert cell below\n"
     ]
    }
   ],
   "source": [
    "print (\"B = insert cell below\")"
   ]
  },
  {
   "cell_type": "code",
   "execution_count": 5,
   "id": "4076e430",
   "metadata": {},
   "outputs": [
    {
     "name": "stdout",
     "output_type": "stream",
     "text": [
      "A = insert cell above\n"
     ]
    }
   ],
   "source": [
    "print (\"A = insert cell above\")"
   ]
  },
  {
   "cell_type": "markdown",
   "id": "c824d97e",
   "metadata": {},
   "source": [
    "# Python Data Types"
   ]
  },
  {
   "cell_type": "markdown",
   "id": "296afd5f",
   "metadata": {},
   "source": [
    "## Booleans"
   ]
  },
  {
   "cell_type": "code",
   "execution_count": 6,
   "id": "4583ab31",
   "metadata": {},
   "outputs": [
    {
     "data": {
      "text/plain": [
       "True"
      ]
     },
     "execution_count": 6,
     "metadata": {},
     "output_type": "execute_result"
    }
   ],
   "source": [
    "True"
   ]
  },
  {
   "cell_type": "code",
   "execution_count": 7,
   "id": "488676f9",
   "metadata": {},
   "outputs": [
    {
     "data": {
      "text/plain": [
       "False"
      ]
     },
     "execution_count": 7,
     "metadata": {},
     "output_type": "execute_result"
    }
   ],
   "source": [
    "False"
   ]
  },
  {
   "cell_type": "markdown",
   "id": "4d762729",
   "metadata": {},
   "source": [
    "# Variable Assignment"
   ]
  },
  {
   "cell_type": "code",
   "execution_count": 9,
   "id": "e5559d05",
   "metadata": {},
   "outputs": [],
   "source": [
    "x = 1"
   ]
  },
  {
   "cell_type": "code",
   "execution_count": 10,
   "id": "f8c74cc6",
   "metadata": {},
   "outputs": [
    {
     "data": {
      "text/plain": [
       "1"
      ]
     },
     "execution_count": 10,
     "metadata": {},
     "output_type": "execute_result"
    }
   ],
   "source": [
    "x"
   ]
  },
  {
   "cell_type": "markdown",
   "id": "ad31f271",
   "metadata": {},
   "source": [
    "# Numbers"
   ]
  },
  {
   "cell_type": "code",
   "execution_count": 11,
   "id": "2f0435c3",
   "metadata": {},
   "outputs": [
    {
     "data": {
      "text/plain": [
       "int"
      ]
     },
     "execution_count": 11,
     "metadata": {},
     "output_type": "execute_result"
    }
   ],
   "source": [
    "type(1)"
   ]
  },
  {
   "cell_type": "code",
   "execution_count": 12,
   "id": "a522e6ac",
   "metadata": {},
   "outputs": [
    {
     "data": {
      "text/plain": [
       "float"
      ]
     },
     "execution_count": 12,
     "metadata": {},
     "output_type": "execute_result"
    }
   ],
   "source": [
    "type(1.0)"
   ]
  },
  {
   "cell_type": "code",
   "execution_count": 13,
   "id": "417dd729",
   "metadata": {},
   "outputs": [
    {
     "data": {
      "text/plain": [
       "2.0"
      ]
     },
     "execution_count": 13,
     "metadata": {},
     "output_type": "execute_result"
    }
   ],
   "source": [
    "4 / 2"
   ]
  },
  {
   "cell_type": "code",
   "execution_count": 14,
   "id": "54f261d3",
   "metadata": {},
   "outputs": [
    {
     "data": {
      "text/plain": [
       "2"
      ]
     },
     "execution_count": 14,
     "metadata": {},
     "output_type": "execute_result"
    }
   ],
   "source": [
    "4 // 2"
   ]
  },
  {
   "cell_type": "markdown",
   "id": "fa182689",
   "metadata": {},
   "source": [
    "Don't use //"
   ]
  },
  {
   "cell_type": "code",
   "execution_count": 15,
   "id": "8e7d28e7",
   "metadata": {},
   "outputs": [
    {
     "data": {
      "text/plain": [
       "1"
      ]
     },
     "execution_count": 15,
     "metadata": {},
     "output_type": "execute_result"
    }
   ],
   "source": [
    "5 % 2"
   ]
  },
  {
   "cell_type": "markdown",
   "id": "29f93f63",
   "metadata": {},
   "source": [
    "% gives us the remainder"
   ]
  },
  {
   "cell_type": "markdown",
   "id": "c11d0f88",
   "metadata": {},
   "source": [
    "** raised to the 2nd power"
   ]
  },
  {
   "cell_type": "markdown",
   "id": "6010a619",
   "metadata": {},
   "source": [
    "# Strings"
   ]
  },
  {
   "cell_type": "markdown",
   "id": "5da84430",
   "metadata": {},
   "source": [
    "Use double quotes! \" \" it will save us"
   ]
  },
  {
   "cell_type": "markdown",
   "id": "fa87a19f",
   "metadata": {},
   "source": [
    "\"\"\"\n",
    "Multi string line, it won't print out nicely because it will have \\n indicating a new line\n",
    "\"\"\""
   ]
  },
  {
   "cell_type": "code",
   "execution_count": 16,
   "id": "580dd593",
   "metadata": {},
   "outputs": [
    {
     "data": {
      "text/plain": [
       "'abcdef'"
      ]
     },
     "execution_count": 16,
     "metadata": {},
     "output_type": "execute_result"
    }
   ],
   "source": [
    "'abc' + 'def'"
   ]
  },
  {
   "cell_type": "markdown",
   "id": "4152abfd",
   "metadata": {},
   "source": [
    "# String Formatting"
   ]
  },
  {
   "cell_type": "code",
   "execution_count": 18,
   "id": "a294f944",
   "metadata": {},
   "outputs": [],
   "source": [
    "name = \"Manuel\""
   ]
  },
  {
   "cell_type": "code",
   "execution_count": 19,
   "id": "8cb415e5",
   "metadata": {},
   "outputs": [
    {
     "data": {
      "text/plain": [
       "'Manuel'"
      ]
     },
     "execution_count": 19,
     "metadata": {},
     "output_type": "execute_result"
    }
   ],
   "source": [
    "name"
   ]
  },
  {
   "cell_type": "code",
   "execution_count": 20,
   "id": "449f4bbe",
   "metadata": {},
   "outputs": [
    {
     "data": {
      "text/plain": [
       "'Hello Manuel'"
      ]
     },
     "execution_count": 20,
     "metadata": {},
     "output_type": "execute_result"
    }
   ],
   "source": [
    "'Hello %s' %(name)"
   ]
  },
  {
   "cell_type": "code",
   "execution_count": 22,
   "id": "efdb68b6",
   "metadata": {},
   "outputs": [
    {
     "data": {
      "text/plain": [
       "'Hello Manuel'"
      ]
     },
     "execution_count": 22,
     "metadata": {},
     "output_type": "execute_result"
    }
   ],
   "source": [
    "'Hello {}'.format(name)"
   ]
  },
  {
   "cell_type": "code",
   "execution_count": 24,
   "id": "b88d5a33",
   "metadata": {},
   "outputs": [
    {
     "data": {
      "text/plain": [
       "'Hello Manuel'"
      ]
     },
     "execution_count": 24,
     "metadata": {},
     "output_type": "execute_result"
    }
   ],
   "source": [
    "f\"Hello {name}\""
   ]
  },
  {
   "cell_type": "code",
   "execution_count": 25,
   "id": "78c51a9e",
   "metadata": {},
   "outputs": [],
   "source": [
    "# this is a comment"
   ]
  },
  {
   "cell_type": "markdown",
   "id": "92039d66",
   "metadata": {},
   "source": [
    "# String Methods"
   ]
  },
  {
   "cell_type": "markdown",
   "id": "fdcd1d88",
   "metadata": {},
   "source": [
    "A way to manipulate strings"
   ]
  },
  {
   "cell_type": "code",
   "execution_count": 26,
   "id": "c9867d28",
   "metadata": {},
   "outputs": [
    {
     "data": {
      "text/plain": [
       "'hello'"
      ]
     },
     "execution_count": 26,
     "metadata": {},
     "output_type": "execute_result"
    }
   ],
   "source": [
    "'HELLO'.lower()"
   ]
  },
  {
   "cell_type": "code",
   "execution_count": 27,
   "id": "82279973",
   "metadata": {},
   "outputs": [
    {
     "data": {
      "text/plain": [
       "'hello'"
      ]
     },
     "execution_count": 27,
     "metadata": {},
     "output_type": "execute_result"
    }
   ],
   "source": [
    "str.lower('HELLO')"
   ]
  },
  {
   "cell_type": "code",
   "execution_count": 28,
   "id": "1c757360",
   "metadata": {},
   "outputs": [
    {
     "data": {
      "text/plain": [
       "'HELLO'"
      ]
     },
     "execution_count": 28,
     "metadata": {},
     "output_type": "execute_result"
    }
   ],
   "source": [
    "'hello'.upper()"
   ]
  },
  {
   "cell_type": "code",
   "execution_count": 30,
   "id": "40b90146",
   "metadata": {},
   "outputs": [
    {
     "data": {
      "text/plain": [
       "'HELLO'"
      ]
     },
     "execution_count": 30,
     "metadata": {},
     "output_type": "execute_result"
    }
   ],
   "source": [
    "'hello'.upper()"
   ]
  },
  {
   "cell_type": "markdown",
   "id": "4a2843df",
   "metadata": {},
   "source": [
    "Method vs. Function - \n",
    "1 is inside a class\n",
    "1 isn't\n",
    "\n",
    "functions - main things we will be building\n",
    "\n",
    "classes - have a bunch of methods inside them. We won't cover these too much"
   ]
  },
  {
   "cell_type": "code",
   "execution_count": 31,
   "id": "603c62d2",
   "metadata": {},
   "outputs": [
    {
     "data": {
      "text/plain": [
       "'Hello'"
      ]
     },
     "execution_count": 31,
     "metadata": {},
     "output_type": "execute_result"
    }
   ],
   "source": [
    "'       Hello       '.strip()"
   ]
  },
  {
   "cell_type": "markdown",
   "id": "d37fb50c",
   "metadata": {},
   "source": [
    ".strip() - strips the white space. Good for cleaning data!"
   ]
  },
  {
   "cell_type": "code",
   "execution_count": 32,
   "id": "9069f6a7",
   "metadata": {},
   "outputs": [
    {
     "data": {
      "text/plain": [
       "True"
      ]
     },
     "execution_count": 32,
     "metadata": {},
     "output_type": "execute_result"
    }
   ],
   "source": [
    "'123'.isdigit()"
   ]
  },
  {
   "cell_type": "markdown",
   "id": "790afa02",
   "metadata": {},
   "source": [
    ".isdigit() finds out if int or str"
   ]
  },
  {
   "cell_type": "code",
   "execution_count": 39,
   "id": "43f61915",
   "metadata": {},
   "outputs": [
    {
     "data": {
      "text/plain": [
       "'Hello Pagel'"
      ]
     },
     "execution_count": 39,
     "metadata": {},
     "output_type": "execute_result"
    }
   ],
   "source": [
    "'Hello Pagel'"
   ]
  },
  {
   "cell_type": "code",
   "execution_count": 40,
   "id": "9da633e8",
   "metadata": {},
   "outputs": [
    {
     "data": {
      "text/plain": [
       "['Hello', 'Pagel']"
      ]
     },
     "execution_count": 40,
     "metadata": {},
     "output_type": "execute_result"
    }
   ],
   "source": [
    "'Hello Pagel'.split()"
   ]
  },
  {
   "cell_type": "markdown",
   "id": "0cd0cc27",
   "metadata": {},
   "source": [
    ".split() splits into list"
   ]
  },
  {
   "cell_type": "code",
   "execution_count": 41,
   "id": "d6fbc76c",
   "metadata": {},
   "outputs": [
    {
     "data": {
      "text/plain": [
       "'heo'"
      ]
     },
     "execution_count": 41,
     "metadata": {},
     "output_type": "execute_result"
    }
   ],
   "source": [
    "'hello'.replace('l','')"
   ]
  },
  {
   "cell_type": "code",
   "execution_count": 43,
   "id": "2a3b0f7b",
   "metadata": {},
   "outputs": [
    {
     "data": {
      "text/plain": [
       "'help'"
      ]
     },
     "execution_count": 43,
     "metadata": {},
     "output_type": "execute_result"
    }
   ],
   "source": [
    "'hello'.replace('lo','p')"
   ]
  },
  {
   "cell_type": "markdown",
   "id": "5087c4ff",
   "metadata": {},
   "source": [
    "# Lists"
   ]
  },
  {
   "cell_type": "code",
   "execution_count": 51,
   "id": "5cd71492",
   "metadata": {},
   "outputs": [],
   "source": [
    "my_list = [12, 25, 31]"
   ]
  },
  {
   "cell_type": "code",
   "execution_count": 54,
   "id": "93a03c26",
   "metadata": {},
   "outputs": [
    {
     "data": {
      "text/plain": [
       "31"
      ]
     },
     "execution_count": 54,
     "metadata": {},
     "output_type": "execute_result"
    }
   ],
   "source": [
    "my_list[2]"
   ]
  },
  {
   "cell_type": "code",
   "execution_count": 56,
   "id": "d001171e",
   "metadata": {},
   "outputs": [],
   "source": [
    "my_list2 = ['one', 'two', 'three']"
   ]
  },
  {
   "cell_type": "code",
   "execution_count": 57,
   "id": "5a5ca54f",
   "metadata": {},
   "outputs": [
    {
     "data": {
      "text/plain": [
       "'two'"
      ]
     },
     "execution_count": 57,
     "metadata": {},
     "output_type": "execute_result"
    }
   ],
   "source": [
    "my_list2[1]"
   ]
  },
  {
   "cell_type": "code",
   "execution_count": 58,
   "id": "b1d5b943",
   "metadata": {},
   "outputs": [],
   "source": [
    "my_list = [1,2,3,4,5,6,7,]"
   ]
  },
  {
   "cell_type": "code",
   "execution_count": 59,
   "id": "7ff219b5",
   "metadata": {},
   "outputs": [
    {
     "data": {
      "text/plain": [
       "[1, 2, 3]"
      ]
     },
     "execution_count": 59,
     "metadata": {},
     "output_type": "execute_result"
    }
   ],
   "source": [
    "my_list[0:3]"
   ]
  },
  {
   "cell_type": "code",
   "execution_count": 60,
   "id": "fdb28819",
   "metadata": {},
   "outputs": [
    {
     "data": {
      "text/plain": [
       "[1, 2, 3, 4, 5, 6, 7, 8, 9, 10]"
      ]
     },
     "execution_count": 60,
     "metadata": {},
     "output_type": "execute_result"
    }
   ],
   "source": [
    "list(range(1, 11))"
   ]
  },
  {
   "cell_type": "markdown",
   "id": "e3744827",
   "metadata": {},
   "source": [
    "# List Methods"
   ]
  },
  {
   "cell_type": "code",
   "execution_count": 61,
   "id": "e83b24c2",
   "metadata": {},
   "outputs": [],
   "source": [
    "list_of_nums = list(range(1,11))"
   ]
  },
  {
   "cell_type": "code",
   "execution_count": 62,
   "id": "febc87f4",
   "metadata": {},
   "outputs": [
    {
     "data": {
      "text/plain": [
       "[1, 2, 3, 4, 5, 6, 7, 8, 9, 10]"
      ]
     },
     "execution_count": 62,
     "metadata": {},
     "output_type": "execute_result"
    }
   ],
   "source": [
    "list_of_nums"
   ]
  },
  {
   "cell_type": "markdown",
   "id": "03a81ea9",
   "metadata": {},
   "source": [
    "append() adds to end of list"
   ]
  },
  {
   "cell_type": "code",
   "execution_count": 63,
   "id": "991faa7f",
   "metadata": {},
   "outputs": [],
   "source": [
    "list_of_nums.append(11)"
   ]
  },
  {
   "cell_type": "code",
   "execution_count": 64,
   "id": "86f217a6",
   "metadata": {},
   "outputs": [
    {
     "data": {
      "text/plain": [
       "[1, 2, 3, 4, 5, 6, 7, 8, 9, 10, 11]"
      ]
     },
     "execution_count": 64,
     "metadata": {},
     "output_type": "execute_result"
    }
   ],
   "source": [
    "list_of_nums"
   ]
  },
  {
   "cell_type": "markdown",
   "id": "712dd38b",
   "metadata": {},
   "source": [
    "pop() deletes last item in list"
   ]
  },
  {
   "cell_type": "code",
   "execution_count": 65,
   "id": "15254d4c",
   "metadata": {},
   "outputs": [
    {
     "data": {
      "text/plain": [
       "11"
      ]
     },
     "execution_count": 65,
     "metadata": {},
     "output_type": "execute_result"
    }
   ],
   "source": [
    "list_of_nums.pop()"
   ]
  },
  {
   "cell_type": "code",
   "execution_count": 66,
   "id": "48084b36",
   "metadata": {},
   "outputs": [
    {
     "data": {
      "text/plain": [
       "[1, 2, 3, 4, 5, 6, 7, 8, 9, 10]"
      ]
     },
     "execution_count": 66,
     "metadata": {},
     "output_type": "execute_result"
    }
   ],
   "source": [
    "list_of_nums"
   ]
  },
  {
   "cell_type": "code",
   "execution_count": 67,
   "id": "0ff0cf41",
   "metadata": {},
   "outputs": [
    {
     "data": {
      "text/plain": [
       "10"
      ]
     },
     "execution_count": 67,
     "metadata": {},
     "output_type": "execute_result"
    }
   ],
   "source": [
    "len(list_of_nums)"
   ]
  },
  {
   "cell_type": "markdown",
   "id": "43d0f525",
   "metadata": {},
   "source": [
    "map() allows us to change things back and forth"
   ]
  },
  {
   "cell_type": "code",
   "execution_count": 72,
   "id": "2f6d9fc8",
   "metadata": {},
   "outputs": [
    {
     "data": {
      "text/plain": [
       "<map at 0x107110cd0>"
      ]
     },
     "execution_count": 72,
     "metadata": {},
     "output_type": "execute_result"
    }
   ],
   "source": [
    "map(str, [1,2,3])"
   ]
  },
  {
   "cell_type": "code",
   "execution_count": 71,
   "id": "5e29f6a5",
   "metadata": {},
   "outputs": [
    {
     "data": {
      "text/plain": [
       "['1', '2', '3']"
      ]
     },
     "execution_count": 71,
     "metadata": {},
     "output_type": "execute_result"
    }
   ],
   "source": [
    "list(map(str, [1,2,3]))"
   ]
  },
  {
   "cell_type": "markdown",
   "id": "39b800ba",
   "metadata": {},
   "source": [
    "# Tuples\n",
    "### List that cannot change\n",
    "#### ( ) makes tuple vs [ ] make a list"
   ]
  },
  {
   "cell_type": "code",
   "execution_count": 90,
   "id": "5be872b9",
   "metadata": {},
   "outputs": [],
   "source": [
    "tup_of_nums = (1,2,3)"
   ]
  },
  {
   "cell_type": "code",
   "execution_count": 91,
   "id": "56648554",
   "metadata": {},
   "outputs": [
    {
     "data": {
      "text/plain": [
       "3"
      ]
     },
     "execution_count": 91,
     "metadata": {},
     "output_type": "execute_result"
    }
   ],
   "source": [
    "tup_of_nums[2]"
   ]
  },
  {
   "cell_type": "markdown",
   "id": "2fd163e7",
   "metadata": {},
   "source": [
    "# Dictionary"
   ]
  },
  {
   "cell_type": "code",
   "execution_count": 82,
   "id": "d0f33063",
   "metadata": {},
   "outputs": [],
   "source": [
    "about_me = {'name': 'Manuel', 'age': 34}"
   ]
  },
  {
   "cell_type": "code",
   "execution_count": 83,
   "id": "faebeb30",
   "metadata": {},
   "outputs": [
    {
     "data": {
      "text/plain": [
       "{'name': 'Manuel', 'age': 34}"
      ]
     },
     "execution_count": 83,
     "metadata": {},
     "output_type": "execute_result"
    }
   ],
   "source": [
    "about_me"
   ]
  },
  {
   "cell_type": "code",
   "execution_count": 84,
   "id": "66998a18",
   "metadata": {},
   "outputs": [
    {
     "data": {
      "text/plain": [
       "'Manuel'"
      ]
     },
     "execution_count": 84,
     "metadata": {},
     "output_type": "execute_result"
    }
   ],
   "source": [
    "about_me['name']"
   ]
  },
  {
   "cell_type": "code",
   "execution_count": 85,
   "id": "f4bfe59a",
   "metadata": {},
   "outputs": [
    {
     "data": {
      "text/plain": [
       "dict_keys(['name', 'age'])"
      ]
     },
     "execution_count": 85,
     "metadata": {},
     "output_type": "execute_result"
    }
   ],
   "source": [
    "about_me.keys()"
   ]
  },
  {
   "cell_type": "code",
   "execution_count": null,
   "id": "8bbde54f",
   "metadata": {},
   "outputs": [],
   "source": [
    "about_me"
   ]
  }
 ],
 "metadata": {
  "kernelspec": {
   "display_name": "Python 3 (ipykernel)",
   "language": "python",
   "name": "python3"
  },
  "language_info": {
   "codemirror_mode": {
    "name": "ipython",
    "version": 3
   },
   "file_extension": ".py",
   "mimetype": "text/x-python",
   "name": "python",
   "nbconvert_exporter": "python",
   "pygments_lexer": "ipython3",
   "version": "3.9.13"
  }
 },
 "nbformat": 4,
 "nbformat_minor": 5
}
