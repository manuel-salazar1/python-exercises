{
 "cells": [
  {
   "cell_type": "code",
   "execution_count": 2,
   "id": "80328e3f",
   "metadata": {},
   "outputs": [
    {
     "data": {
      "text/plain": [
       "4"
      ]
     },
     "execution_count": 2,
     "metadata": {},
     "output_type": "execute_result"
    }
   ],
   "source": [
    "2 + 2"
   ]
  },
  {
   "cell_type": "code",
   "execution_count": 3,
   "id": "5a429a6d",
   "metadata": {},
   "outputs": [
    {
     "name": "stdout",
     "output_type": "stream",
     "text": [
      "Shift + Enter = run the current cell, select below\n"
     ]
    }
   ],
   "source": [
    "print (\"Shift + Enter = run the current cell, select below\")"
   ]
  },
  {
   "cell_type": "code",
   "execution_count": 4,
   "id": "2694357c",
   "metadata": {},
   "outputs": [
    {
     "name": "stdout",
     "output_type": "stream",
     "text": [
      "B = insert cell below\n"
     ]
    }
   ],
   "source": [
    "print (\"B = insert cell below\")"
   ]
  },
  {
   "cell_type": "code",
   "execution_count": 5,
   "id": "9cc9eaef",
   "metadata": {},
   "outputs": [
    {
     "name": "stdout",
     "output_type": "stream",
     "text": [
      "A = insert cell above\n"
     ]
    }
   ],
   "source": [
    "print (\"A = insert cell above\")"
   ]
  },
  {
   "cell_type": "code",
   "execution_count": null,
   "id": "ba49ef69",
   "metadata": {},
   "outputs": [],
   "source": []
  }
 ],
 "metadata": {
  "kernelspec": {
   "display_name": "Python 3 (ipykernel)",
   "language": "python",
   "name": "python3"
  },
  "language_info": {
   "codemirror_mode": {
    "name": "ipython",
    "version": 3
   },
   "file_extension": ".py",
   "mimetype": "text/x-python",
   "name": "python",
   "nbconvert_exporter": "python",
   "pygments_lexer": "ipython3",
   "version": "3.9.13"
  }
 },
 "nbformat": 4,
 "nbformat_minor": 5
}
